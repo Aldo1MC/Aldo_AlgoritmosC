{
 "cells": [
  {
   "cell_type": "markdown",
   "id": "d94c1bf7",
   "metadata": {},
   "source": [
    "# Ranita saltarina"
   ]
  },
  {
   "cell_type": "markdown",
   "id": "50f9b656",
   "metadata": {},
   "source": [
    "## Pseudocódigo\n",
    "\n",
    "Realizar el cálculo de las posibilidades para una distancia j, con 1<= j <= 45 de la siguiente manera\n",
    "1. Si la distancia n es igual a 1, entonces la posibilidad de salto es:\n",
    "\n",
    "    1 salto\n",
    "\n",
    "\n",
    "2. Realizar el cálculo de posibilidades de salto desde el i-ésimo número, con 1< i<= j\n",
    "\n",
    "3. Si i es impar, sumar uno a todas las posibilidades anteriores\n",
    "\n",
    "4. Si i es par, sumar uno a todas las posibilidades anteriores, y además agregar el número 2, un número x de veces, con x igual al resultado de i/2\n",
    "\n",
    "5. Repetir los pasos 3 y 4 hasta que i = j\n",
    "\n",
    "6. Para realizar el cálculo total de posibilidades, aplicar la fórmula de permutación con repetición a todas las posibilidades obtenidas, y realizar la suma de cada resultado.\n",
    "\n",
    "\n",
    "\n"
   ]
  },
  {
   "cell_type": "code",
   "execution_count": 8,
   "id": "38e05e1d",
   "metadata": {},
   "outputs": [
    {
     "data": {
      "text/plain": [
       "ranita (generic function with 1 method)"
      ]
     },
     "execution_count": 8,
     "metadata": {},
     "output_type": "execute_result"
    }
   ],
   "source": [
    "function ranita(n::Int64)\n",
    "    base = [\"\"]\n",
    "    total = 0\n",
    "    for i in 1:1:n #Iteramos desde 1 hasta el número n\n",
    "        if i%2  == 1\n",
    "            base = base .* \"1\" #Si el número i es impar, sumamos 1 salto a la lista base\n",
    "        elseif i!=1 && i%2 == 0 #Si el número i es par, sumamos 1 salto\n",
    "            base = base .* \"1\" # #y también agregamos el 2 un número r de veces, con r=i/2\n",
    "            r = div(i,2)\n",
    "            push!(base, repeat(\"2\", r))\n",
    "            #println(base)\n",
    "        end\n",
    "    end\n",
    "    \n",
    "   for x in base #Iteramos sobre cada caracter de la lista base\n",
    "    car = collect(x) #Recolectamos cada caracter\n",
    "    elementos = length(car)\n",
    "    println(car, \"Hay \", elementos, \" elementos\")\n",
    "    uno = 0\n",
    "    dos = 0\n",
    "        for a in car #Con este for contamos el número de veces que tenemos repetido al 1 y al 2\n",
    "            \n",
    "            if a == '1' \n",
    "                uno += 1\n",
    "            else \n",
    "                dos += 1\n",
    "            end\n",
    "        \n",
    "        end\n",
    "    println(\"El 1 se encuentra \", uno, \" veces\")\n",
    "    println(\"El 2 se encuentra \", dos, \" veces\")\n",
    "    \n",
    "    combinaciones = (factorial(big(elementos)))/(factorial(big(uno))*factorial(big(dos))) #Calculamos el número de combinaciones posibles\n",
    "    println(\"Se puede combinar \", combinaciones, \" veces\")\n",
    "    println(\"\")\n",
    "        \n",
    "    total += combinaciones #Sumamos las combinaciones\n",
    "    end\n",
    "    println(\"El total de posibles secuencias de salto es \", total)\n",
    "end"
   ]
  },
  {
   "cell_type": "code",
   "execution_count": 10,
   "id": "818d0ec5",
   "metadata": {},
   "outputs": [
    {
     "name": "stdout",
     "output_type": "stream",
     "text": [
      "['1', '1', '1', '1', '1', '1', '1', '1', '1', '1', '1', '1', '1', '1', '1', '1', '1', '1', '1', '1', '1', '1', '1', '1', '1', '1', '1', '1', '1', '1', '1', '1', '1', '1', '1', '1', '1', '1', '1', '1', '1', '1', '1', '1', '1']Hay 45 elementos\n",
      "El 1 se encuentra 45 veces\n",
      "El 2 se encuentra 0 veces\n",
      "Se puede combinar 1.0 veces\n",
      "\n",
      "['2', '1', '1', '1', '1', '1', '1', '1', '1', '1', '1', '1', '1', '1', '1', '1', '1', '1', '1', '1', '1', '1', '1', '1', '1', '1', '1', '1', '1', '1', '1', '1', '1', '1', '1', '1', '1', '1', '1', '1', '1', '1', '1', '1']Hay 44 elementos\n",
      "El 1 se encuentra 43 veces\n",
      "El 2 se encuentra 1 veces\n",
      "Se puede combinar 44.0 veces\n",
      "\n",
      "['2', '2', '1', '1', '1', '1', '1', '1', '1', '1', '1', '1', '1', '1', '1', '1', '1', '1', '1', '1', '1', '1', '1', '1', '1', '1', '1', '1', '1', '1', '1', '1', '1', '1', '1', '1', '1', '1', '1', '1', '1', '1', '1']Hay 43 elementos\n",
      "El 1 se encuentra 41 veces\n",
      "El 2 se encuentra 2 veces\n",
      "Se puede combinar 903.0 veces\n",
      "\n",
      "['2', '2', '2', '1', '1', '1', '1', '1', '1', '1', '1', '1', '1', '1', '1', '1', '1', '1', '1', '1', '1', '1', '1', '1', '1', '1', '1', '1', '1', '1', '1', '1', '1', '1', '1', '1', '1', '1', '1', '1', '1', '1']Hay 42 elementos\n",
      "El 1 se encuentra 39 veces\n",
      "El 2 se encuentra 3 veces\n",
      "Se puede combinar 11480.0 veces\n",
      "\n",
      "['2', '2', '2', '2', '1', '1', '1', '1', '1', '1', '1', '1', '1', '1', '1', '1', '1', '1', '1', '1', '1', '1', '1', '1', '1', '1', '1', '1', '1', '1', '1', '1', '1', '1', '1', '1', '1', '1', '1', '1', '1']Hay 41 elementos\n",
      "El 1 se encuentra 37 veces\n",
      "El 2 se encuentra 4 veces\n",
      "Se puede combinar 101270.0 veces\n",
      "\n",
      "['2', '2', '2', '2', '2', '1', '1', '1', '1', '1', '1', '1', '1', '1', '1', '1', '1', '1', '1', '1', '1', '1', '1', '1', '1', '1', '1', '1', '1', '1', '1', '1', '1', '1', '1', '1', '1', '1', '1', '1']Hay 40 elementos\n",
      "El 1 se encuentra 35 veces\n",
      "El 2 se encuentra 5 veces\n",
      "Se puede combinar 658008.0 veces\n",
      "\n",
      "['2', '2', '2', '2', '2', '2', '1', '1', '1', '1', '1', '1', '1', '1', '1', '1', '1', '1', '1', '1', '1', '1', '1', '1', '1', '1', '1', '1', '1', '1', '1', '1', '1', '1', '1', '1', '1', '1', '1']Hay 39 elementos\n",
      "El 1 se encuentra 33 veces\n",
      "El 2 se encuentra 6 veces\n",
      "Se puede combinar 3.262623e+06 veces\n",
      "\n",
      "['2', '2', '2', '2', '2', '2', '2', '1', '1', '1', '1', '1', '1', '1', '1', '1', '1', '1', '1', '1', '1', '1', '1', '1', '1', '1', '1', '1', '1', '1', '1', '1', '1', '1', '1', '1', '1', '1']Hay 38 elementos\n",
      "El 1 se encuentra 31 veces\n",
      "El 2 se encuentra 7 veces\n",
      "Se puede combinar 1.2620256e+07 veces\n",
      "\n",
      "['2', '2', '2', '2', '2', '2', '2', '2', '1', '1', '1', '1', '1', '1', '1', '1', '1', '1', '1', '1', '1', '1', '1', '1', '1', '1', '1', '1', '1', '1', '1', '1', '1', '1', '1', '1', '1']Hay 37 elementos\n",
      "El 1 se encuentra 29 veces\n",
      "El 2 se encuentra 8 veces\n",
      "Se puede combinar 3.860802e+07 veces\n",
      "\n",
      "['2', '2', '2', '2', '2', '2', '2', '2', '2', '1', '1', '1', '1', '1', '1', '1', '1', '1', '1', '1', '1', '1', '1', '1', '1', '1', '1', '1', '1', '1', '1', '1', '1', '1', '1', '1']Hay 36 elementos\n",
      "El 1 se encuentra 27 veces\n",
      "El 2 se encuentra 9 veces\n",
      "Se puede combinar 9.414328e+07 veces\n",
      "\n",
      "['2', '2', '2', '2', '2', '2', '2', '2', '2', '2', '1', '1', '1', '1', '1', '1', '1', '1', '1', '1', '1', '1', '1', '1', '1', '1', '1', '1', '1', '1', '1', '1', '1', '1', '1']Hay 35 elementos\n",
      "El 1 se encuentra 25 veces\n",
      "El 2 se encuentra 10 veces\n",
      "Se puede combinar 1.83579396e+08 veces\n",
      "\n",
      "['2', '2', '2', '2', '2', '2', '2', '2', '2', '2', '2', '1', '1', '1', '1', '1', '1', '1', '1', '1', '1', '1', '1', '1', '1', '1', '1', '1', '1', '1', '1', '1', '1', '1']Hay 34 elementos\n",
      "El 1 se encuentra 23 veces\n",
      "El 2 se encuentra 11 veces\n",
      "Se puede combinar 2.8609776e+08 veces\n",
      "\n",
      "['2', '2', '2', '2', '2', '2', '2', '2', '2', '2', '2', '2', '1', '1', '1', '1', '1', '1', '1', '1', '1', '1', '1', '1', '1', '1', '1', '1', '1', '1', '1', '1', '1']Hay 33 elementos\n",
      "El 1 se encuentra 21 veces\n",
      "El 2 se encuentra 12 veces\n",
      "Se puede combinar 3.5481732e+08 veces\n",
      "\n",
      "['2', '2', '2', '2', '2', '2', '2', '2', '2', '2', '2', '2', '2', '1', '1', '1', '1', '1', '1', '1', '1', '1', '1', '1', '1', '1', '1', '1', '1', '1', '1', '1']Hay 32 elementos\n",
      "El 1 se encuentra 19 veces\n",
      "El 2 se encuentra 13 veces\n",
      "Se puede combinar 3.473736e+08 veces\n",
      "\n",
      "['2', '2', '2', '2', '2', '2', '2', '2', '2', '2', '2', '2', '2', '2', '1', '1', '1', '1', '1', '1', '1', '1', '1', '1', '1', '1', '1', '1', '1', '1', '1']Hay 31 elementos\n",
      "El 1 se encuentra 17 veces\n",
      "El 2 se encuentra 14 veces\n",
      "Se puede combinar 2.65182525e+08 veces\n",
      "\n",
      "['2', '2', '2', '2', '2', '2', '2', '2', '2', '2', '2', '2', '2', '2', '2', '1', '1', '1', '1', '1', '1', '1', '1', '1', '1', '1', '1', '1', '1', '1']Hay 30 elementos\n",
      "El 1 se encuentra 15 veces\n",
      "El 2 se encuentra 15 veces\n",
      "Se puede combinar 1.5511752e+08 veces\n",
      "\n",
      "['2', '2', '2', '2', '2', '2', '2', '2', '2', '2', '2', '2', '2', '2', '2', '2', '1', '1', '1', '1', '1', '1', '1', '1', '1', '1', '1', '1', '1']Hay 29 elementos\n",
      "El 1 se encuentra 13 veces\n",
      "El 2 se encuentra 16 veces\n",
      "Se puede combinar 6.7863915e+07 veces\n",
      "\n",
      "['2', '2', '2', '2', '2', '2', '2', '2', '2', '2', '2', '2', '2', '2', '2', '2', '2', '1', '1', '1', '1', '1', '1', '1', '1', '1', '1', '1']Hay 28 elementos\n",
      "El 1 se encuentra 11 veces\n",
      "El 2 se encuentra 17 veces\n",
      "Se puede combinar 2.147418e+07 veces\n",
      "\n",
      "['2', '2', '2', '2', '2', '2', '2', '2', '2', '2', '2', '2', '2', '2', '2', '2', '2', '2', '1', '1', '1', '1', '1', '1', '1', '1', '1']Hay 27 elementos\n",
      "El 1 se encuentra 9 veces\n",
      "El 2 se encuentra 18 veces\n",
      "Se puede combinar 4.686825e+06 veces\n",
      "\n",
      "['2', '2', '2', '2', '2', '2', '2', '2', '2', '2', '2', '2', '2', '2', '2', '2', '2', '2', '2', '1', '1', '1', '1', '1', '1', '1']Hay 26 elementos\n",
      "El 1 se encuentra 7 veces\n",
      "El 2 se encuentra 19 veces\n",
      "Se puede combinar 657800.0 veces\n",
      "\n",
      "['2', '2', '2', '2', '2', '2', '2', '2', '2', '2', '2', '2', '2', '2', '2', '2', '2', '2', '2', '2', '1', '1', '1', '1', '1']Hay 25 elementos\n",
      "El 1 se encuentra 5 veces\n",
      "El 2 se encuentra 20 veces\n",
      "Se puede combinar 53130.0 veces\n",
      "\n",
      "['2', '2', '2', '2', '2', '2', '2', '2', '2', '2', '2', '2', '2', '2', '2', '2', '2', '2', '2', '2', '2', '1', '1', '1']Hay 24 elementos\n",
      "El 1 se encuentra 3 veces\n",
      "El 2 se encuentra 21 veces\n",
      "Se puede combinar 2024.0 veces\n",
      "\n",
      "['2', '2', '2', '2', '2', '2', '2', '2', '2', '2', '2', '2', '2', '2', '2', '2', '2', '2', '2', '2', '2', '2', '1']Hay 23 elementos\n",
      "El 1 se encuentra 1 veces\n",
      "El 2 se encuentra 22 veces\n",
      "Se puede combinar 23.0 veces\n",
      "\n",
      "El total de posibles secuencias de salto es 1.836311903e+09\n"
     ]
    }
   ],
   "source": [
    "ranita(45)"
   ]
  },
  {
   "cell_type": "markdown",
   "id": "36c48ff3",
   "metadata": {},
   "source": [
    "Podemos hacer una función que nos muestre la secuencia de saltos de la ranita. Llamaremos a esta función \"ranita2()\"."
   ]
  },
  {
   "cell_type": "code",
   "execution_count": 4,
   "id": "39262935",
   "metadata": {},
   "outputs": [],
   "source": [
    "using Combinatorics "
   ]
  },
  {
   "cell_type": "code",
   "execution_count": 5,
   "id": "161062e0",
   "metadata": {},
   "outputs": [
    {
     "data": {
      "text/plain": [
       "posibilidades (generic function with 1 method)"
      ]
     },
     "execution_count": 5,
     "metadata": {},
     "output_type": "execute_result"
    }
   ],
   "source": [
    "posibilidades(a) = unique((permutations(a))) #Esta función nos permite calcular las combinaciones entre saltos de 1 y 2 unidades de longitud"
   ]
  },
  {
   "cell_type": "code",
   "execution_count": 6,
   "id": "f9ac073e",
   "metadata": {},
   "outputs": [
    {
     "data": {
      "text/plain": [
       "ranita2 (generic function with 1 method)"
      ]
     },
     "execution_count": 6,
     "metadata": {},
     "output_type": "execute_result"
    }
   ],
   "source": [
    "function ranita2(n::Int64)\n",
    "    base = [\"\"]\n",
    "    for i in 1:1:n\n",
    "        if i%2  == 1\n",
    "            base = base .* \"1\"\n",
    "            #println(base)\n",
    "        elseif i!=1 && i%2 == 0\n",
    "            base = base .* \"1\"\n",
    "            r = div(i,2)\n",
    "            push!(base, repeat(\"2\", r))\n",
    "            #println(base)\n",
    "        end\n",
    "    end #Hasta aquí se ha realizado la primera mitad de la función ranita()\n",
    "    #print(base)\n",
    "   for x in base #Iteramos sobre cada secuencia de posibles saltos\n",
    "    car = collect(x)\n",
    "    print(posibilidades(car)) #Realizamos la permutación de los números 1 y 2 para obtener todas las posibilidades de como acomodar 1 y 2 en una secuencia de saltos.\n",
    "    end\n",
    "end"
   ]
  },
  {
   "cell_type": "code",
   "execution_count": 7,
   "id": "ad9d1929",
   "metadata": {},
   "outputs": [
    {
     "name": "stdout",
     "output_type": "stream",
     "text": [
      "[['1', '1', '1']][['2', '1'], ['1', '2']]"
     ]
    }
   ],
   "source": [
    "ranita2(3) #No es recomendable ejecutar la función para valores mayores de 10 xd"
   ]
  },
  {
   "cell_type": "markdown",
   "id": "2784b5e4",
   "metadata": {},
   "source": [
    "Reflexiona sobre la complejidad temporal y espacial de tu algoritmo. ¿Cómo cambia el tiempo\n",
    "de ejecución de tu programa conforme crece n?, ¿cómo cambia el espacio ocupado en la memoria\n",
    "de la máquina conforme incrementa n?\n",
    "\n",
    "Respuesta:\n",
    "Al tener 10 saltos con 89 secuencias posibles de estos, podemos deducir que entre más saltos realice la rana, tendrá un mayor numero de secuencias posibles, lo que complicaría la ejecución del programa tardando más en realizarce, ya que tiene que hacer procesos de forma recursiva ocupando mucha más memoria y tomandole más tiempo."
   ]
  },
  {
   "cell_type": "markdown",
   "id": "7d7c433c",
   "metadata": {},
   "source": [
    "Reflexiona sobre el valor m´aximo que puede tomar n de tal forma que no haya sobreflujo en\n",
    "tus resultados de N\n",
    "\n",
    "Respuesta:\n",
    "Realizamos unas pruebas con la segunda función llamada ranita2(), en donde hubo ocasiones en las que para n mayor a 20 existía un sobreflujo, pero en otras ocasiones para n mayor a 10 ya encontrabamos este problema. Por lo que un número n que consideremos bueno para esta función es aquel que sea menor a 10."
   ]
  }
 ],
 "metadata": {
  "kernelspec": {
   "display_name": "Julia 1.8.5",
   "language": "julia",
   "name": "julia-1.8"
  },
  "language_info": {
   "file_extension": ".jl",
   "mimetype": "application/julia",
   "name": "julia",
   "version": "1.8.5"
  }
 },
 "nbformat": 4,
 "nbformat_minor": 5
}
