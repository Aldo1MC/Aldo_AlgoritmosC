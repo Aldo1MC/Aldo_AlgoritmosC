{
 "cells": [
  {
   "cell_type": "markdown",
   "id": "4f3bb035",
   "metadata": {},
   "source": [
    "# Ciclos\n",
    "\n",
    "En este _notebook_, veremos una nueva forma de control de flujo: los **ciclos**. En general, estos permiten _repetir_ procesos _hasta que_ una condición particular se satisfaga, aunque existen varias formas diferentes de lograr esto.\n",
    "\n",
    "## Tipos de ciclos\n",
    "\n",
    "Es muy común que, al programar, necesitemos implementar alguno de los siguientes procesos:\n",
    "* repetir una serie de instrucciones _mientras_ cierta condición se cumpla (i.e. _hasta que_ se deje de cumplir),\n",
    "* aplicar una secuencia de instrucciones _sobre_ un arreglo (i.e. _por cada elemento_ del arreglo),\n",
    "* ejecutar una serie de instrucciones _recursivamente_ (i.e. que la última instrucción sea _volver a ejecutar_ la serie).\n",
    "\n",
    "En la mayoría de los lenguajes de programación, estas funcionalidades están implementadas a través de **ciclos**. Dado que en los primeros dos procesos se _itera_ sobre una condición o sobre los elementos de un arreglo, respectivamente, se conocen como ciclos **iterativos**, mientras que el tercero se conoce como un ciclo **recursivo**. "
   ]
  },
  {
   "cell_type": "markdown",
   "id": "5c9c4b70",
   "metadata": {},
   "source": [
    "## Ciclos iterativos"
   ]
  },
  {
   "cell_type": "markdown",
   "id": "1d212526",
   "metadata": {},
   "source": [
    "### Ciclos `while` (_while loops_)\n",
    "\n",
    "Los ciclos que ejecutan repetidamente una secuencia de instrucciones _mientras_ cierta condición se cumpla se conocen como ciclos **`while`**. Su sintáxis en Julia es la siguiente:\n",
    "\n",
    "$\\color{green}{\\textbf{while }} \\text{condition}$\n",
    "\n",
    "$\\quad \\quad \\text{block}$\n",
    "\n",
    "$\\color{green}{\\textbf{end}}$\n",
    "\n",
    "Al ejecutar este código:\n",
    "1. Julia reducirá y evaluará la expresión $\\text{condition}$.\n",
    "1. Si $\\text{condition}$ se evalúa a `true`, ejecutará el bloque de código $\\text{block}$ y regresará al paso 1.\n",
    "1. Si $\\text{condition}$ se evalúa a `false`, **no** ejecutará el bloque de código $\\text{block}$ **ni** volverá al paso 1, sino que procederá a ejecutar las instrucciones _posteriores_ al final del ciclo, marcado por $\\color{green}{\\textbf{end}}$ (de haberlas).\n",
    "\n",
    "Observa que, para que Julia pueda llegar al paso 3 y terminar de ejecutar el ciclo **`while`**, es necesario que el bloque de código $\\text{block}$ **cambie el valor de** $\\text{condition}$ en algún punto; ¡de lo contrario, la serie de instrucciones en $\\text{block}$ _se ejecutará infinitamente_! Si llegamos a pedirle a la computadora por error que **ejecute un proceso infinito**, deberemos interrumpir nuestro _kernel_ para poder seguir trabajando."
   ]
  },
  {
   "cell_type": "markdown",
   "id": "6d45d4a5",
   "metadata": {},
   "source": [
    "Un ejemplo de un ciclo **`while`** _bien implementado_ (es decir, finito) es el siguiente:"
   ]
  },
  {
   "cell_type": "code",
   "execution_count": null,
   "id": "658ad23c",
   "metadata": {},
   "outputs": [],
   "source": [
    "x = 0          #Asignamos el valor 0 a una variable 'x'.\n",
    "\n",
    "while x <= 2   #Iniciamos un ciclo que se repetirá mientras x\n",
    "               #tenga un valor menor o igual a 2.\n",
    "    println(x) #Imprimimos el valor de 'x'.\n",
    "    x += 1     #¡Aumentamos el valor de 'x' para que el ciclo termine\n",
    "               #eventualmente y no se haga un proceso infinito!\n",
    "end"
   ]
  },
  {
   "cell_type": "markdown",
   "id": "7fc323b4",
   "metadata": {},
   "source": [
    "mientras que dos ejemplos de ciclos **`while`** _mal implementados_ (es decir, infinitos) son los siguientes:"
   ]
  },
  {
   "cell_type": "code",
   "execution_count": null,
   "id": "b03e53ac",
   "metadata": {},
   "outputs": [],
   "source": [
    "x = 0          #Asignamos el valor 0 a una variable 'x'.\n",
    "\n",
    "while x <= 2   #Iniciamos un ciclo que se repetirá mientras x\n",
    "               #tenga un valor menor o igual a 2.\n",
    "    println(x) #Imprimimos el valor de 'x'.\n",
    "               #No modificamos el valor de 'x', ¡así que siempre valdrá 0 \n",
    "end            #y el ciclo se volverá a ejecutar infinitamente!"
   ]
  },
  {
   "cell_type": "code",
   "execution_count": null,
   "id": "ca479bb4",
   "metadata": {},
   "outputs": [],
   "source": [
    "x = 0          #Asignamos el valor 0 a una variable 'x'.\n",
    "\n",
    "while x <= 2   #Iniciamos un ciclo que se repetirá mientras x\n",
    "               #tenga un valor menor o igual a 2.\n",
    "    println(x) #Imprimimos el valor de 'x'.\n",
    "    x -= 1     #Modificamos el valor de 'x', ¡pero NO de forma que\n",
    "               #eventualmente la condición deje de cumplirse!\n",
    "end"
   ]
  },
  {
   "cell_type": "markdown",
   "id": "cd424951",
   "metadata": {},
   "source": [
    "Una aplicación muy importante de los ciclos **`while`** es la de repetir un cálculo numérico hasta que éste tenga la precisión deseada. Como de costumbre, la precisión se determina como el valor absoluto de la diferencia entre el valor que obtenemos (el resultado del cálculo) y el valor que esperamos (o bien, el valor exacto), por lo que un ejemplo de pseudocódigo que usa un ciclo **`while`** de esta manera para aproximar $\\pi$ se podría ver como sigue:\n",
    "\n",
    "$\\varepsilon \\ \\color{magenta}{\\mathbf{=}} \\ 0.1 \\quad \\quad \\quad \\quad \\quad \\quad \\color{blue}{\\text{# Definimos la cota mínima de precisión que queremos.}}$\n",
    "\n",
    "$\\text{p} \\ \\color{magenta}{\\mathbf{=}} \\ 3 \\ \\ \\ \\quad \\quad \\quad \\quad \\quad \\quad \\color{blue}{\\text{# Asignamos un valor a nuestra variable.}}$\n",
    "\n",
    "$\\color{green}{\\textbf{while }} \\text{abs}(\\pi-\\text{p}) > \\varepsilon \\quad \\color{blue}{\\text{# Mientras la precisión obtenida sea mayor a la deseada...}}$\n",
    "\n",
    "$\\quad \\quad \\text{block} \\ \\ \\ \\quad \\quad \\quad \\quad \\color{blue}{\\text{# Cálculos que deriven en una reasignación del valor de}}$\n",
    "\n",
    "$\\ \\ \\ \\quad \\quad \\quad \\quad \\quad \\quad \\quad \\quad \\color{blue}{\\text{# la variable p y lo acerquen al valor de } \\pi}.$\n",
    "\n",
    "$\\color{green}{\\textbf{end}}$\n",
    "\n",
    "Frecuentemente usaremos los ciclos **`while`** de esta forma cuando veamos [métodos numéricos](../3-Cómputo_científico/3.1-Métodos_numéricos.ipynb)."
   ]
  },
  {
   "cell_type": "markdown",
   "id": "06c25079",
   "metadata": {},
   "source": [
    "**Ejercicio** Implementa un código que aproxime la [épsilon de máquina para `Float64`](./1.2-Sistemas_numéricos_de_punto_flotante_y_error_numérico.ipynb#Resumen) **sin utilizar la función `eps`**."
   ]
  },
  {
   "cell_type": "code",
   "execution_count": 1,
   "id": "2bc2fdfa",
   "metadata": {},
   "outputs": [
    {
     "name": "stdout",
     "output_type": "stream",
     "text": [
      "2.0e-16"
     ]
    }
   ],
   "source": [
    "#Tu código comentado va aquí :D\n",
    "ϵ = 0.0\n",
    "while (ϵ + 1.0)<= 1.0\n",
    "    \n",
    "    ϵ += 1e-16\n",
    "end\n",
    "print(ϵ)\n",
    "\n"
   ]
  },
  {
   "cell_type": "markdown",
   "id": "8af3beb8",
   "metadata": {},
   "source": [
    "### Ciclos `for` (_for loops_)\n",
    "\n",
    "Los ciclos que aplican una misma secuencia de instrucciones _por cada elemento de un arreglo_ se conocen como ciclos **`for`**. Su sintáxis en Julia es la siguiente:\n",
    "\n",
    "$\\color{green}{\\textbf{for }} \\text{iterator } \\color{magenta}{\\textbf{in }} \\text{array}$\n",
    "\n",
    "$\\quad \\quad \\text{block}$\n",
    "\n",
    "$\\color{green}{\\textbf{end}}$\n",
    "\n",
    "Al ejecutar este código:\n",
    "1. Julia tomará el primer valor del arreglo $\\text{array}$ y se lo asignará a una variable de nombre $\\text{iterator}$.\n",
    "1. Julia ejecutará el bloque de código $\\text{block}$, **el cual _puede_ utilizar a la variable** $\\text{iterator}$.\n",
    "1. Julia tomará el _siguiente_ valor de $\\text{array}$ y se lo asignará a $\\text{iterator}$.\n",
    "1. Julia repetirá los pasos 2 y 3 hasta que no queden más valores en el arreglo por asignar, en cuyo caso procederá a ejecutar las instrucciones _posteriores_ al final del ciclo, marcado por $\\color{green}{\\textbf{end}}$ (de haberlas).\n",
    "\n",
    "Dado que los ciclos **`for`** _iteran_ sobre los elementos de un arreglo, a una variable creada por un ciclo **`for`** se le suele llamar _iterador_."
   ]
  },
  {
   "cell_type": "markdown",
   "id": "3fd57620",
   "metadata": {},
   "source": [
    "Las siguientes celdas de código incluyen ejemplos de ciclos **`for`**:"
   ]
  },
  {
   "cell_type": "code",
   "execution_count": null,
   "id": "a7bff5c4",
   "metadata": {},
   "outputs": [],
   "source": [
    "A = [0, 1, 2]\n",
    "\n",
    "for x in A     #Por cada elemento de A, asignamos su valor a 'x'\n",
    "\n",
    "    println(x) #e imprimimos el valor asignado a 'x'.\n",
    "    \n",
    "end"
   ]
  },
  {
   "cell_type": "code",
   "execution_count": null,
   "id": "afed3c78",
   "metadata": {},
   "outputs": [],
   "source": [
    "sum = 0\n",
    "\n",
    "for n in [1, 2, 3, 4, 5, 6, 7, 8, 9, 10, 11, 12, 13, 14, 15]\n",
    "    \n",
    "    sum += 1 / ( n*(n+1) )\n",
    "    \n",
    "end\n",
    "\n",
    "sum"
   ]
  },
  {
   "cell_type": "markdown",
   "id": "7f824dde",
   "metadata": {},
   "source": [
    "Observa que el primer ejemplo de ciclo **`for`** es totalmente equivalente al primer ciclo **`while`** que vimos en este _notebook_, mientras que el segundo ciclo **`for`** es la suma parcial de los primeros 15 términos de la serie\n",
    "\n",
    "$$\\sum_{n=1}^\\infty \\frac{1}{(n(n+1))}.$$\n",
    "\n",
    "En el _notebook_ [`1.2-Sistemas_numéricos_de_punto_flotante_y_error_numérico.ipynb`](./1.2-Sistemas_numéricos_de_punto_flotante_y_error_numérico.ipynb) mencionamos que esta serie es igual a $1$. Observa cómo cambia el valor de `sum` si agregas más valores de la sucesión $1, 2, 3\\dots$ al arreglo, o si quitas algunos valores."
   ]
  },
  {
   "cell_type": "markdown",
   "id": "060341ab",
   "metadata": {},
   "source": [
    "Otro ejemplo de uso de un ciclo **`for`** es el siguiente:"
   ]
  },
  {
   "cell_type": "code",
   "execution_count": null,
   "id": "f25b0156",
   "metadata": {},
   "outputs": [],
   "source": [
    "prod = 1\n",
    "A = [0, 'a', \"Hola\", 0.4, 1000, 7]\n",
    "\n",
    "for i in A    #Por cada elemento de A,\n",
    "    \n",
    "    prod *= 2 #multiplica el valor de `prod` por 2.\n",
    "    \n",
    "end\n",
    "\n",
    "prod"
   ]
  },
  {
   "cell_type": "markdown",
   "id": "27e1f495",
   "metadata": {},
   "source": [
    "Nótese que dentro del ciclo **`for`** anterior _no se usó el valor del iterador_ `i`, por lo que realmente _no importó el contenido del arreglo sobre el que se iteró_ (en este caso, `A`), sino que _sólo importó cuántos elementos tenía el arreglo_. Esto se puede ver cambiando los valores de los elementos de `A` y ejecutando nuevamente la celda. Por ejemplos como éste es que a veces a una variable creada por un ciclo **`for`** también se le llama _contador_."
   ]
  },
  {
   "cell_type": "markdown",
   "id": "91e29e9e",
   "metadata": {},
   "source": [
    "#### Rangos\n",
    "\n",
    "Como has observado, es común utilizar ciclos **`for`** sobre conjuntos de números espaciados uniformemente. A estos se les conocen como **rangos**. En Julia, tienen la siguiente sintáxis:\n",
    "\n",
    "$$\\color{green}{\\text{a}}\\color{magenta}{\\textbf{:}}\\color{green}{\\text{b}}\\color{magenta}{\\textbf{:}}\\color{green}{\\text{c}}$$\n",
    "\n",
    "Al ejecutar este código:\n",
    "1. Julia creará un rango que tenga al valor $\\color{green}{\\text{a}}$ como su primer entrada.\n",
    "2. Julia agregará una nueva entrada al rango sumándole $\\color{green}{\\text{b}}$ al valor de su última entrada.\n",
    "3. Julia repetirá el paso 2 hasta que la suma de $\\color{green}{\\text{b}}$ con el valor de su última entrada \"rebase\" a $\\color{green}{\\text{c}}$; el valor que haya cruzado la frontera marcada por $\\color{green}{\\text{c}}$ **no** será incluido en el rango."
   ]
  },
  {
   "cell_type": "markdown",
   "id": "e53d790b",
   "metadata": {},
   "source": [
    "El siguiente ejemplo utiliza un rango como arreglo en un ciclo **`for`** e imprime a los elementos del rango:"
   ]
  },
  {
   "cell_type": "code",
   "execution_count": null,
   "id": "d673dd12",
   "metadata": {},
   "outputs": [],
   "source": [
    "for x in 1:0.2:3.0\n",
    "    \n",
    "    println(x)\n",
    "    \n",
    "end"
   ]
  },
  {
   "cell_type": "markdown",
   "id": "ac70e3c5",
   "metadata": {},
   "source": [
    "Si escribimos un rango de la forma\n",
    "\n",
    "$$\\color{green}{\\text{a}}\\color{magenta}{\\textbf{:}}\\color{green}{\\text{c}}$$\n",
    "\n",
    "Julia asumirá que la diferencia entre los elementos del arreglo es $1$. El siguiente ejemplo usa un rango para calcular la suma parcial de la serie mencionada anteriormente:"
   ]
  },
  {
   "cell_type": "code",
   "execution_count": null,
   "id": "3c974b6c",
   "metadata": {},
   "outputs": [],
   "source": [
    "sum = 0\n",
    "\n",
    "for n in 1:1000000\n",
    "    \n",
    "    sum += 1 / ( n*(n+1) )\n",
    "    \n",
    "end\n",
    "\n",
    "sum"
   ]
  },
  {
   "cell_type": "markdown",
   "id": "9d4a245d",
   "metadata": {},
   "source": [
    "Observemos que esta forma equivalente de calcular la suma parcial tiene la ventaja de ser más legible y fácil de modificar; para obtener la suma de los primeros $n$ términos ¡sólo debemos cambiar el último valor del rango!"
   ]
  },
  {
   "cell_type": "markdown",
   "id": "dd842541",
   "metadata": {},
   "source": [
    "A pesar de que un **rango** _no es lo mismo_ que un arreglo, se puede acceder a sus elementos usando la misma sintáxis, envolviéndolo primero entre paréntesis:"
   ]
  },
  {
   "cell_type": "code",
   "execution_count": null,
   "id": "a3b48f6c",
   "metadata": {},
   "outputs": [],
   "source": [
    "(1:0.2:2)[3] #Accedemos a un elemento de un rango"
   ]
  },
  {
   "cell_type": "markdown",
   "id": "48db27f3",
   "metadata": {},
   "source": [
    "Adicionalmente, pueden ser convertidos a un arreglo con la función `collect`:"
   ]
  },
  {
   "cell_type": "code",
   "execution_count": null,
   "id": "8d5cffe6",
   "metadata": {},
   "outputs": [],
   "source": [
    "collect(1:0.5:3) #Convertimos un rango a un vector (arreglo de una dimensión)"
   ]
  },
  {
   "cell_type": "markdown",
   "id": "465a6657",
   "metadata": {},
   "source": [
    "**Nota** Si recuerdas, en el _notebook_ [`1.3-Tipos_de_datos_de_texto_y_arreglos.ipynb`](./1.3-Tipos_de_datos_de_texto_y_arreglos.ipynb#Índices-y-subarreglos) utilizamos arreglos de índices para acceder a subarreglos de un arreglo, por ejemplo:"
   ]
  },
  {
   "cell_type": "code",
   "execution_count": null,
   "id": "67dbcc24",
   "metadata": {},
   "outputs": [],
   "source": [
    "[1, 3, 5, 7, 9][[1,3,5]]"
   ]
  },
  {
   "cell_type": "markdown",
   "id": "a77f933a",
   "metadata": {},
   "source": [
    "En particular, podemos usar rangos como arreglos de índices para este fin:"
   ]
  },
  {
   "cell_type": "code",
   "execution_count": null,
   "id": "6ba1bb32",
   "metadata": {},
   "outputs": [],
   "source": [
    "[1, 3, 5, 7, 9][1:2:5]"
   ]
  },
  {
   "cell_type": "markdown",
   "id": "867dfa19",
   "metadata": {},
   "source": [
    "Por esto es que, cuando sólo ponemos el símbolo `:` sin especificar los parámetros del rango de índices, Julia lo interpreta como _todo el rango de índices posible_. Así es como pudimos, por ejemplo, obtener vectores columna y vectores renglón de una matriz:"
   ]
  },
  {
   "cell_type": "code",
   "execution_count": null,
   "id": "3d03d8df",
   "metadata": {},
   "outputs": [],
   "source": [
    "[1 2 3 ; 4 5 6 ; 7 8 9][3,:]\n",
    "#=Devuelve un arreglo con todos los índices posibles de columna\n",
    "  para el índice 3 de renglón.=#"
   ]
  },
  {
   "cell_type": "code",
   "execution_count": null,
   "id": "6f7239df",
   "metadata": {},
   "outputs": [],
   "source": [
    "[1 2 3 ; 4 5 6 ; 7 8 9][:,2]\n",
    "#=Devuelve un arreglo con todos los índices posibles de renglón\n",
    "  para el índice 2 de columna.=#"
   ]
  },
  {
   "cell_type": "markdown",
   "id": "bacb332c",
   "metadata": {},
   "source": [
    "#### Creación de arreglos \"por comprensión\" (_comprehensions_)\n",
    "\n",
    "En teoría de conjuntos, podemos describir a un conjunto \"por extensión\"\n",
    "\n",
    "$$J = \\{ 1, 2, 3, 4, 5, 6, 7, 8, 9, 10 \\}$$\n",
    "\n",
    "o \"por comprensión\"\n",
    "\n",
    "$$J = \\{ x \\in \\mathbb{N} \\mid 1 \\leq x \\leq 10 \\},$$\n",
    "\n",
    "es decir, especificando qué propiedad deben cumplir los elementos del conjunto _en vez de_ enumerarlos a todos.\n",
    "\n",
    "En Julia, hemos visto que podemos crear arreglos _por extensión_"
   ]
  },
  {
   "cell_type": "code",
   "execution_count": null,
   "id": "86fd259a",
   "metadata": {},
   "outputs": [],
   "source": [
    "B = [1, 2, 3, 4, 5, 6, 7, 8, 9, 10]"
   ]
  },
  {
   "cell_type": "markdown",
   "id": "1ac29b80",
   "metadata": {},
   "source": [
    "pero que también podemos usar rangos para crear arreglos uniformemente espaciados _por comprensión_"
   ]
  },
  {
   "cell_type": "code",
   "execution_count": null,
   "id": "99ffeefe",
   "metadata": {},
   "outputs": [],
   "source": [
    "C = collect(1:10)"
   ]
  },
  {
   "cell_type": "code",
   "execution_count": null,
   "id": "05004203",
   "metadata": {},
   "outputs": [],
   "source": [
    "B == C #Verificamos que estas dos formas de definir arreglos sean equivalentes."
   ]
  },
  {
   "cell_type": "markdown",
   "id": "31ca9732",
   "metadata": {},
   "source": [
    "En general, los ciclos **`for`** y los rangos pueden ser utilizados para definir arreglos por comprensión. Por ejemplo,\n",
    "\n",
    "$$ D = \\{1, 4, 9, 16, 25\\} = \\{ x^2 \\mid x\\in\\mathbb{N}, \\ 1\\leq x\\leq 5 \\} $$\n",
    "\n",
    "puede ser implementado como"
   ]
  },
  {
   "cell_type": "code",
   "execution_count": null,
   "id": "45200318",
   "metadata": {},
   "outputs": [],
   "source": [
    "D = [ x^2 for x in 1:5 ]"
   ]
  },
  {
   "cell_type": "markdown",
   "id": "6cc0975d",
   "metadata": {},
   "source": [
    "Incluso podemos añadir declaraciones condicionales dentro de la propiedad que los elementos deben cumplir para pertenecer al arreglo, por ejemplo:"
   ]
  },
  {
   "cell_type": "code",
   "execution_count": null,
   "id": "43b9e297",
   "metadata": {},
   "outputs": [],
   "source": [
    "E = [ x^2 for x in -10:10 if (x >= 1 && x <= 5) ]"
   ]
  },
  {
   "cell_type": "code",
   "execution_count": null,
   "id": "1d14a181",
   "metadata": {},
   "outputs": [],
   "source": [
    "D == E #Verificamos que estas dos formas de definir arreglos sean equivalentes."
   ]
  },
  {
   "cell_type": "markdown",
   "id": "8b38d41f",
   "metadata": {},
   "source": [
    "A este tipo de expresiones en Julia se les conoce como _comprehensions_, y su sintáxis general es la siguiente:\n",
    "\n",
    "$$\\text{expression } \\color{green}{\\textbf{for }} \\text{iterator } \\color{magenta}{\\textbf{in }} \\text{range } \\color{green}{\\textbf{if }} \\text{condition}$$\n",
    "\n",
    "donde $\\text{expression}$ es una expresión que define a los elementos del arreglo, $\\text{iterator}$ es un iterador que _puede_ aparecer en $\\text{expression}$, y la presencia de una declaración condicional $\\color{green}{\\textbf{if }} \\text{condition}$ es opcional."
   ]
  },
  {
   "cell_type": "markdown",
   "id": "9b58d144",
   "metadata": {},
   "source": [
    "En particular, podemos utilizar un _comprehension_ donde la variable del ciclo _for_ **no** aparezca en la expresión que define a los elementos del arreglo para definir un arreglo con una cantidad $n$ de entradas con el mismo valor:"
   ]
  },
  {
   "cell_type": "code",
   "execution_count": null,
   "id": "eefd4ac3",
   "metadata": {
    "scrolled": true
   },
   "outputs": [],
   "source": [
    "[1 for x in 1:10]"
   ]
  },
  {
   "cell_type": "markdown",
   "id": "70a2f849",
   "metadata": {},
   "source": [
    "## Ciclos recursivos\n",
    "\n",
    "La _recursión_ es lo que sucede cuando un proceso hace referencia a sí mismo _como parte del (mismo) proceso_. En este sentido, un **ciclo recursivo** es una serie de instrucciones definida de tal forma que tiene como instrucción ejecutarse a sí misma. Para que un ciclo recursivo _no se repita infinitamente_, antes de que se llame a sí mismo, sus instrucciones deben incluir algo que sea capaz de _cambiar el flujo del ciclo_ para detenerlo."
   ]
  },
  {
   "cell_type": "markdown",
   "id": "32b41520",
   "metadata": {},
   "source": [
    "Recordemos que, en Julia, definimos series de instrucciones como _funciones_ con la siguiente sintáxis (vista en el _notebook_ [`1.4-Variables_constantes_y_funciones.ipynb`](./1.4-Variables_constantes_y_funciones.ipynb#Definición-de-funciones)):\n",
    "\n",
    "$\\color{green}{\\textbf{function }} \\color{blue}{\\text{nombre}} \\text{(parámetro1, ... , parámetro$N$}\\color{magenta}{\\textbf{=}}\\text{valorPredeterminado})$\n",
    "\n",
    "$\\quad \\quad \\text{block}$\n",
    "\n",
    "$\\color{green}{\\textbf{end}}$\n",
    "\n",
    "y controlamos el flujo mediante _condicionales_, como las declaraciones `if`, que tienen la siguiente sintáxis (vista en el _notebook_ [`1.6-Condicionales_y_control_de_flujo.ipynb`](./1.6-Condicionales_y_control_de_flujo.ipynb#Declaraciones-if-(if-statements))):\n",
    "\n",
    "$\\color{green}{\\textbf{if }} \\text{condition}$\n",
    "\n",
    "$\\quad \\quad \\text{then...}$\n",
    "\n",
    "$\\color{green}{\\textbf{end}}$\n",
    "\n",
    "Combinando ambas cosas, podemos crear ciclos recursivos, como en el siguiente ejemplo (de la función [factorial](https://es.wikipedia.org/wiki/Factorial)):"
   ]
  },
  {
   "cell_type": "code",
   "execution_count": 38,
   "id": "ca444e6c",
   "metadata": {},
   "outputs": [
    {
     "ename": "LoadError",
     "evalue": "StackOverflowError:",
     "output_type": "error",
     "traceback": [
      "StackOverflowError:",
      "",
      "Stacktrace:",
      " [1] ==",
      "   @ .\\In[38]:1 [inlined]",
      " [2] fact(x::Int64)",
      "   @ Main .\\In[38]:3",
      " [3] fact(x::Int64) (repeats 65250 times)",
      "   @ Main .\\In[38]:9"
     ]
    }
   ],
   "source": [
    "function fact(x::Integer)  #Definimos la función factorial `fact`\n",
    "    \n",
    "    if x == 0              #Si el argumento es 0,\n",
    "        \n",
    "        1                      #devuelve 1;\n",
    "        \n",
    "    else                   #en cualquier otro caso,\n",
    "        \n",
    "        x*fact(x-1)            #devuelve la multiplicación del argumento por el\n",
    "                               #factorial del antecesor del argumento.\n",
    "    end\n",
    "  \n",
    "end\n",
    "\n",
    "fact(-1) #Llamamos a la función para probarla."
   ]
  },
  {
   "cell_type": "markdown",
   "id": "58958b8a",
   "metadata": {},
   "source": [
    "La razón por la que en el ejemplo anterior especificamos que el parámetro de `fact` sea de tipo `Integer` -un tipo de dato abstracto que engloba a los diferentes tipos de dato enteros- es que, si aceptáramos un argumento de tipo flotante, nada nos aseguraría que al restarle $1$ varias veces llegaríamos a obtener $0$, la condición que detiene el ciclo. Sin embargo... ¿qué pasa si llamamos a `fact` con un argumento con tipo de dato entero, pero _negativo_?"
   ]
  },
  {
   "cell_type": "markdown",
   "id": "44fabdd5",
   "metadata": {},
   "source": [
    "**Ejercicio** Crea una función llamada `miFactorial` que tome un argumento de tipo `Integer`, imprima el `String` `\"Error: la función miFactorial no se puede ejecutar con valores negativos.\"` si el argumento es menor a cero, y devuelva el factorial del argumento si es mayor o igual que cero."
   ]
  },
  {
   "cell_type": "code",
   "execution_count": 45,
   "id": "d30e1733",
   "metadata": {},
   "outputs": [
    {
     "name": "stdout",
     "output_type": "stream",
     "text": [
      "Error: la función miFactorial no se puede ejecutar con valores negativos\n"
     ]
    }
   ],
   "source": [
    "# Tu código comentado va aquí :D\n",
    "function miFactorial(a::Integer)\n",
    "    if a < 0\n",
    "        println(\"Error: la función miFactorial no se puede ejecutar con valores negativos\")\n",
    "    else\n",
    "        fact(a)\n",
    "    end\n",
    "end\n",
    "miFactorial(-10)"
   ]
  },
  {
   "cell_type": "markdown",
   "id": "406a5f4f",
   "metadata": {},
   "source": [
    "**Nota** La función factorial ya está definida en Julia con el nombre `factorial`, y funciona de forma similar a `miFactorial`, por lo que no tenemos que definir una función factorial cada vez que queramos usarla."
   ]
  },
  {
   "cell_type": "markdown",
   "id": "aff598bb",
   "metadata": {},
   "source": [
    "## Visualización de ciclos con... ¡tortugas!\n",
    "\n",
    "Imaginemos que tenemos una tortuga en el origen de un plano cartesiano que tiene una pluma (de escribir) pegada, la cual puede poner sobre el papel o bien levantar, y que esta tortuga entiende sólo cuatro instrucciones:\n",
    "* camina hacia adelante un número $d$ de unidades de distancia,\n",
    "* gira $\\theta$ grados,\n",
    "* levanta la pluma del papel y\n",
    "* baja la pluma sobre el papel.\n",
    "\n",
    "Si le pedimos que camine hacia adelante mientras tiene la pluma abajo (i.e. sobre el papel), dibujará una línea recta, mientras que, si le pedimos que camine cuando tiene la pluma arriba (i.e. levantada), no dibujará nada. La tortuga tampoco dibujará nada si le pedimos que gire, pues asumiremos que, aún con la pluma abajo, la marca es tan pequeña que no se alcanza a ver (o que es \"de dimensión cero\"). \n",
    "\n",
    "Observa que, con las cuatro instrucciones anteriores (y la cooperación de la tortuga, por supuesto) **podríamos dibujar cualquier figura bidimensional compuesta únicamente por líneas rectas**. En serio, **piénsalo**."
   ]
  },
  {
   "cell_type": "markdown",
   "id": "1688c677",
   "metadata": {},
   "source": [
    "### Dibujando líneas con tortugas en Julia\n",
    "\n",
    "Afortunadamente, existe un programa que hace exactamente lo que acabamos de describir. Está incluido dentro del paquete [`ThinkJulia`](https://github.com/BenLauwens/ThinkJulia.jl), creado como recurso didáctico del libro [Think Julia: How to Think Like a Computer Scientist](https://benlauwens.github.io/ThinkJulia.jl/latest/book.html#_turtles) de Ben Lauwens. Instalemos e importemos este paquete:"
   ]
  },
  {
   "cell_type": "code",
   "execution_count": 1,
   "id": "14319d11",
   "metadata": {},
   "outputs": [
    {
     "name": "stderr",
     "output_type": "stream",
     "text": [
      "\u001b[32m\u001b[1m     Cloning\u001b[22m\u001b[39m git-repo `https://github.com/BenLauwens/ThinkJulia.jl`\n",
      "\u001b[32m\u001b[1m    Updating\u001b[22m\u001b[39m git-repo `https://github.com/BenLauwens/ThinkJulia.jl`\n",
      "\u001b[32m\u001b[1m    Updating\u001b[22m\u001b[39m registry at `C:\\Users\\zoona\\.julia\\registries\\General.toml`\n",
      "\u001b[32m\u001b[1m   Resolving\u001b[22m\u001b[39m package versions...\n",
      "\u001b[32m\u001b[1m   Installed\u001b[22m\u001b[39m x265_jll ────────────────── v3.5.0+0\n",
      "\u001b[32m\u001b[1m   Installed\u001b[22m\u001b[39m Opus_jll ────────────────── v1.3.2+0\n",
      "\u001b[32m\u001b[1m   Installed\u001b[22m\u001b[39m Libmount_jll ────────────── v2.35.0+0\n",
      "\u001b[32m\u001b[1m   Installed\u001b[22m\u001b[39m LERC_jll ────────────────── v3.0.0+1\n",
      "\u001b[32m\u001b[1m   Installed\u001b[22m\u001b[39m JpegTurbo_jll ───────────── v2.1.91+0\n",
      "\u001b[32m\u001b[1m   Installed\u001b[22m\u001b[39m libfdk_aac_jll ──────────── v2.0.2+0\n",
      "\u001b[32m\u001b[1m   Installed\u001b[22m\u001b[39m ImageMagick ─────────────── v0.7.9\n",
      "\u001b[32m\u001b[1m   Installed\u001b[22m\u001b[39m OffsetArrays ────────────── v1.12.9\n",
      "\u001b[32m\u001b[1m   Installed\u001b[22m\u001b[39m Measures ────────────────── v0.3.2\n",
      "\u001b[32m\u001b[1m   Installed\u001b[22m\u001b[39m Grisu ───────────────────── v1.0.2\n",
      "\u001b[32m\u001b[1m   Installed\u001b[22m\u001b[39m RecipesPipeline ─────────── v0.1.13\n",
      "\u001b[32m\u001b[1m   Installed\u001b[22m\u001b[39m Xorg_libpthread_stubs_jll ─ v0.1.0+3\n",
      "\u001b[32m\u001b[1m   Installed\u001b[22m\u001b[39m PlotUtils ───────────────── v0.6.5\n",
      "\u001b[32m\u001b[1m   Installed\u001b[22m\u001b[39m StaticArrays ────────────── v1.5.19\n",
      "\u001b[32m\u001b[1m   Installed\u001b[22m\u001b[39m Contour ─────────────────── v0.5.7\n",
      "\u001b[32m\u001b[1m   Installed\u001b[22m\u001b[39m FileIO ──────────────────── v1.16.0\n",
      "\u001b[32m\u001b[1m   Installed\u001b[22m\u001b[39m Cairo_jll ───────────────── v1.16.1+1\n",
      "\u001b[32m\u001b[1m   Installed\u001b[22m\u001b[39m Fontconfig_jll ──────────── v2.13.93+0\n",
      "\u001b[32m\u001b[1m   Installed\u001b[22m\u001b[39m Libgpg_error_jll ────────── v1.42.0+0\n",
      "\u001b[32m\u001b[1m   Installed\u001b[22m\u001b[39m Media ───────────────────── v0.5.0\n",
      "\u001b[32m\u001b[1m   Installed\u001b[22m\u001b[39m Xorg_libXau_jll ─────────── v1.0.9+4\n",
      "\u001b[32m\u001b[1m   Installed\u001b[22m\u001b[39m Missings ────────────────── v1.1.0\n",
      "\u001b[32m\u001b[1m   Installed\u001b[22m\u001b[39m GR ──────────────────────── v0.48.0\n",
      "\u001b[32m\u001b[1m   Installed\u001b[22m\u001b[39m Showoff ─────────────────── v0.3.2\n",
      "\u001b[32m\u001b[1m   Installed\u001b[22m\u001b[39m IrrationalConstants ─────── v0.1.1\n",
      "\u001b[32m\u001b[1m   Installed\u001b[22m\u001b[39m FFMPEG ──────────────────── v0.3.0\n",
      "\u001b[32m\u001b[1m   Installed\u001b[22m\u001b[39m Pango_jll ───────────────── v1.50.9+0\n",
      "\u001b[32m\u001b[1m   Installed\u001b[22m\u001b[39m HarfBuzz_jll ────────────── v2.8.1+1\n",
      "\u001b[32m\u001b[1m   Installed\u001b[22m\u001b[39m Bzip2_jll ───────────────── v1.0.8+0\n",
      "\u001b[32m\u001b[1m   Installed\u001b[22m\u001b[39m PlotThemes ──────────────── v1.0.3\n",
      "\u001b[32m\u001b[1m   Installed\u001b[22m\u001b[39m NaNMath ─────────────────── v0.3.7\n",
      "\u001b[32m\u001b[1m   Installed\u001b[22m\u001b[39m StaticArraysCore ────────── v1.4.0\n",
      "\u001b[32m\u001b[1m   Installed\u001b[22m\u001b[39m SpecialFunctions ────────── v1.8.8\n",
      "\u001b[32m\u001b[1m   Installed\u001b[22m\u001b[39m FriBidi_jll ─────────────── v1.0.10+0\n",
      "\u001b[32m\u001b[1m   Installed\u001b[22m\u001b[39m Graphics ────────────────── v1.1.2\n",
      "\u001b[32m\u001b[1m   Installed\u001b[22m\u001b[39m x264_jll ────────────────── v2021.5.5+0\n",
      "\u001b[32m\u001b[1m   Installed\u001b[22m\u001b[39m MappedArrays ────────────── v0.4.1\n",
      "\u001b[32m\u001b[1m   Installed\u001b[22m\u001b[39m BinaryProvider ──────────── v0.5.10\n",
      "\u001b[32m\u001b[1m   Installed\u001b[22m\u001b[39m LZO_jll ─────────────────── v2.10.1+0\n",
      "\u001b[32m\u001b[1m   Installed\u001b[22m\u001b[39m DataStructures ──────────── v0.18.13\n",
      "\u001b[32m\u001b[1m   Installed\u001b[22m\u001b[39m Colors ──────────────────── v0.11.2\n",
      "\u001b[32m\u001b[1m   Installed\u001b[22m\u001b[39m FreeType2_jll ───────────── v2.10.4+0\n",
      "\u001b[32m\u001b[1m   Installed\u001b[22m\u001b[39m PaddedViews ─────────────── v0.5.11\n",
      "\u001b[32m\u001b[1m   Installed\u001b[22m\u001b[39m StatsAPI ────────────────── v1.5.0\n",
      "\u001b[32m\u001b[1m   Installed\u001b[22m\u001b[39m Xorg_libxcb_jll ─────────── v1.13.0+3\n",
      "\u001b[32m\u001b[1m   Installed\u001b[22m\u001b[39m MosaicViews ─────────────── v0.3.4\n",
      "\u001b[32m\u001b[1m   Installed\u001b[22m\u001b[39m Compat ──────────────────── v4.6.1\n",
      "\u001b[32m\u001b[1m   Installed\u001b[22m\u001b[39m StatsBase ───────────────── v0.33.21\n",
      "\u001b[32m\u001b[1m   Installed\u001b[22m\u001b[39m libpng_jll ──────────────── v1.6.38+0\n",
      "\u001b[32m\u001b[1m   Installed\u001b[22m\u001b[39m libaom_jll ──────────────── v3.4.0+0\n",
      "\u001b[32m\u001b[1m   Installed\u001b[22m\u001b[39m Xorg_libXext_jll ────────── v1.3.4+4\n",
      "\u001b[32m\u001b[1m   Installed\u001b[22m\u001b[39m ImageCore ───────────────── v0.8.22\n",
      "\u001b[32m\u001b[1m   Installed\u001b[22m\u001b[39m ColorTypes ──────────────── v0.9.1\n",
      "\u001b[32m\u001b[1m   Installed\u001b[22m\u001b[39m Plots ───────────────────── v1.0.14\n",
      "\u001b[32m\u001b[1m   Installed\u001b[22m\u001b[39m GeometryTypes ───────────── v0.8.5\n",
      "\u001b[32m\u001b[1m   Installed\u001b[22m\u001b[39m Expat_jll ───────────────── v2.4.8+0\n",
      "\u001b[32m\u001b[1m   Installed\u001b[22m\u001b[39m Zstd_jll ────────────────── v1.5.4+0\n",
      "\u001b[32m\u001b[1m   Installed\u001b[22m\u001b[39m Poppler_jll ─────────────── v0.87.0+2\n",
      "\u001b[32m\u001b[1m   Installed\u001b[22m\u001b[39m QuartzImageIO ───────────── v0.6.0\n",
      "\u001b[32m\u001b[1m   Installed\u001b[22m\u001b[39m Libffi_jll ──────────────── v3.2.2+1\n",
      "\u001b[32m\u001b[1m   Installed\u001b[22m\u001b[39m Libtiff_jll ─────────────── v4.4.0+0\n",
      "\u001b[32m\u001b[1m   Installed\u001b[22m\u001b[39m Xorg_libXrender_jll ─────── v0.9.10+4\n",
      "\u001b[32m\u001b[1m   Installed\u001b[22m\u001b[39m AbstractFFTs ────────────── v1.3.1\n",
      "\u001b[32m\u001b[1m   Installed\u001b[22m\u001b[39m ColorVectorSpace ────────── v0.8.7\n",
      "\u001b[32m\u001b[1m   Installed\u001b[22m\u001b[39m ChainRulesCore ──────────── v1.15.7\n",
      "\u001b[32m\u001b[1m   Installed\u001b[22m\u001b[39m XSLT_jll ────────────────── v1.1.34+0\n",
      "\u001b[32m\u001b[1m   Installed\u001b[22m\u001b[39m Ogg_jll ─────────────────── v1.3.5+1\n",
      "\u001b[32m\u001b[1m   Installed\u001b[22m\u001b[39m Reexport ────────────────── v0.2.0\n",
      "\u001b[32m\u001b[1m   Installed\u001b[22m\u001b[39m StackViews ──────────────── v0.1.1\n",
      "\u001b[32m\u001b[1m   Installed\u001b[22m\u001b[39m Tectonic ────────────────── v0.8.0\n",
      "\u001b[32m\u001b[1m   Installed\u001b[22m\u001b[39m LogExpFunctions ─────────── v0.3.23\n",
      "\u001b[32m\u001b[1m   Installed\u001b[22m\u001b[39m LittleCMS_jll ───────────── v2.12.0+0\n",
      "\u001b[32m\u001b[1m   Installed\u001b[22m\u001b[39m OpenSpecFun_jll ─────────── v0.5.5+0\n",
      "\u001b[32m\u001b[1m   Installed\u001b[22m\u001b[39m MacroTools ──────────────── v0.5.10\n",
      "\u001b[32m\u001b[1m   Installed\u001b[22m\u001b[39m InverseFunctions ────────── v0.1.8\n",
      "\u001b[32m\u001b[1m   Installed\u001b[22m\u001b[39m Libuuid_jll ─────────────── v2.36.0+0\n",
      "\u001b[32m\u001b[1m   Installed\u001b[22m\u001b[39m TikzPictures ────────────── v3.4.2\n",
      "\u001b[32m\u001b[1m   Installed\u001b[22m\u001b[39m Adapt ───────────────────── v3.6.1\n",
      "\u001b[32m\u001b[1m   Installed\u001b[22m\u001b[39m DocStringExtensions ─────── v0.9.3\n",
      "\u001b[32m\u001b[1m   Installed\u001b[22m\u001b[39m Graphite2_jll ───────────── v1.3.14+0\n",
      "\u001b[32m\u001b[1m   Installed\u001b[22m\u001b[39m libass_jll ──────────────── v0.15.1+0\n",
      "\u001b[32m\u001b[1m   Installed\u001b[22m\u001b[39m Pixman_jll ──────────────── v0.40.1+0\n",
      "\u001b[32m\u001b[1m   Installed\u001b[22m\u001b[39m XML2_jll ────────────────── v2.10.3+0\n",
      "\u001b[32m\u001b[1m   Installed\u001b[22m\u001b[39m Gettext_jll ─────────────── v0.21.0+0\n",
      "\u001b[32m\u001b[1m   Installed\u001b[22m\u001b[39m Xorg_xtrans_jll ─────────── v1.4.0+3\n",
      "\u001b[32m\u001b[1m   Installed\u001b[22m\u001b[39m OpenJpeg_jll ────────────── v2.4.0+0\n",
      "\u001b[32m\u001b[1m   Installed\u001b[22m\u001b[39m FFMPEG_jll ──────────────── v4.4.2+2\n",
      "\u001b[32m\u001b[1m   Installed\u001b[22m\u001b[39m FixedPointNumbers ───────── v0.7.1\n",
      "\u001b[32m\u001b[1m   Installed\u001b[22m\u001b[39m Cairo ───────────────────── v1.0.5\n",
      "\u001b[32m\u001b[1m   Installed\u001b[22m\u001b[39m Libgcrypt_jll ───────────── v1.8.7+0\n",
      "\u001b[32m\u001b[1m   Installed\u001b[22m\u001b[39m Libiconv_jll ────────────── v1.16.1+2\n",
      "\u001b[32m\u001b[1m   Installed\u001b[22m\u001b[39m LAME_jll ────────────────── v3.100.1+0\n",
      "\u001b[32m\u001b[1m   Installed\u001b[22m\u001b[39m Glib_jll ────────────────── v2.74.0+2\n",
      "\u001b[32m\u001b[1m   Installed\u001b[22m\u001b[39m libvorbis_jll ───────────── v1.3.7+1\n",
      "\u001b[32m\u001b[1m   Installed\u001b[22m\u001b[39m LaTeXStrings ────────────── v1.3.0\n",
      "\u001b[32m\u001b[1m   Installed\u001b[22m\u001b[39m Requires ────────────────── v1.3.0\n",
      "\u001b[32m\u001b[1m   Installed\u001b[22m\u001b[39m Xorg_libXdmcp_jll ───────── v1.1.3+4\n",
      "\u001b[32m\u001b[1m   Installed\u001b[22m\u001b[39m Xorg_libX11_jll ─────────── v1.6.9+4\n",
      "\u001b[32m\u001b[1m   Installed\u001b[22m\u001b[39m Juno ────────────────────── v0.8.4\n",
      "\u001b[32m\u001b[1m   Installed\u001b[22m\u001b[39m SortingAlgorithms ───────── v1.1.0\n",
      "\u001b[32m\u001b[1m   Installed\u001b[22m\u001b[39m ChangesOfVariables ──────── v0.1.6\n",
      "\u001b[32m\u001b[1m   Installed\u001b[22m\u001b[39m RecipesBase ─────────────── v1.3.3\n",
      "\u001b[32m\u001b[1m   Installed\u001b[22m\u001b[39m Luxor ───────────────────── v1.12.0\n",
      "\u001b[32m\u001b[1m    Updating\u001b[22m\u001b[39m `C:\\Users\\zoona\\.julia\\environments\\v1.8\\Project.toml`\n",
      " \u001b[90m [a7f2b756] \u001b[39m\u001b[92m+ ThinkJulia v0.0.0 `https://github.com/BenLauwens/ThinkJulia.jl#master`\u001b[39m\n",
      "\u001b[32m\u001b[1m    Updating\u001b[22m\u001b[39m `C:\\Users\\zoona\\.julia\\environments\\v1.8\\Manifest.toml`\n",
      " \u001b[90m [621f4979] \u001b[39m\u001b[92m+ AbstractFFTs v1.3.1\u001b[39m\n",
      " \u001b[90m [79e6a3ab] \u001b[39m\u001b[92m+ Adapt v3.6.1\u001b[39m\n",
      " \u001b[90m [b99e7846] \u001b[39m\u001b[92m+ BinaryProvider v0.5.10\u001b[39m\n",
      " \u001b[90m [159f3aea] \u001b[39m\u001b[92m+ Cairo v1.0.5\u001b[39m\n",
      " \u001b[90m [d360d2e6] \u001b[39m\u001b[92m+ ChainRulesCore v1.15.7\u001b[39m\n",
      " \u001b[90m [9e997f8a] \u001b[39m\u001b[92m+ ChangesOfVariables v0.1.6\u001b[39m\n",
      "\u001b[33m⌅\u001b[39m\u001b[90m [3da002f7] \u001b[39m\u001b[92m+ ColorTypes v0.9.1\u001b[39m\n",
      "\u001b[33m⌅\u001b[39m\u001b[90m [c3611d14] \u001b[39m\u001b[92m+ ColorVectorSpace v0.8.7\u001b[39m\n",
      "\u001b[32m⌃\u001b[39m\u001b[90m [5ae59095] \u001b[39m\u001b[92m+ Colors v0.11.2\u001b[39m\n",
      " \u001b[90m [34da2185] \u001b[39m\u001b[92m+ Compat v4.6.1\u001b[39m\n",
      "\u001b[33m⌅\u001b[39m\u001b[90m [d38c429a] \u001b[39m\u001b[92m+ Contour v0.5.7\u001b[39m\n",
      " \u001b[90m [864edb3b] \u001b[39m\u001b[92m+ DataStructures v0.18.13\u001b[39m\n",
      " \u001b[90m [ffbed154] \u001b[39m\u001b[92m+ DocStringExtensions v0.9.3\u001b[39m\n",
      "\u001b[33m⌅\u001b[39m\u001b[90m [c87230d0] \u001b[39m\u001b[92m+ FFMPEG v0.3.0\u001b[39m\n",
      " \u001b[90m [5789e2e9] \u001b[39m\u001b[92m+ FileIO v1.16.0\u001b[39m\n",
      "\u001b[33m⌅\u001b[39m\u001b[90m [53c48c17] \u001b[39m\u001b[92m+ FixedPointNumbers v0.7.1\u001b[39m\n",
      "\u001b[33m⌅\u001b[39m\u001b[90m [28b8d3ca] \u001b[39m\u001b[92m+ GR v0.48.0\u001b[39m\n",
      " \u001b[90m [4d00f742] \u001b[39m\u001b[92m+ GeometryTypes v0.8.5\u001b[39m\n",
      " \u001b[90m [a2bd30eb] \u001b[39m\u001b[92m+ Graphics v1.1.2\u001b[39m\n",
      " \u001b[90m [42e2da0e] \u001b[39m\u001b[92m+ Grisu v1.0.2\u001b[39m\n",
      "\u001b[33m⌅\u001b[39m\u001b[90m [a09fc81d] \u001b[39m\u001b[92m+ ImageCore v0.8.22\u001b[39m\n",
      "\u001b[33m⌅\u001b[39m\u001b[90m [6218d12a] \u001b[39m\u001b[92m+ ImageMagick v0.7.9\u001b[39m\n",
      " \u001b[90m [3587e190] \u001b[39m\u001b[92m+ InverseFunctions v0.1.8\u001b[39m\n",
      "\u001b[33m⌅\u001b[39m\u001b[90m [92d709cd] \u001b[39m\u001b[92m+ IrrationalConstants v0.1.1\u001b[39m\n",
      " \u001b[90m [e5e0dc1b] \u001b[39m\u001b[92m+ Juno v0.8.4\u001b[39m\n",
      " \u001b[90m [b964fa9f] \u001b[39m\u001b[92m+ LaTeXStrings v1.3.0\u001b[39m\n",
      " \u001b[90m [2ab3a3ac] \u001b[39m\u001b[92m+ LogExpFunctions v0.3.23\u001b[39m\n"
     ]
    },
    {
     "name": "stderr",
     "output_type": "stream",
     "text": [
      "\u001b[32m⌃\u001b[39m\u001b[90m [ae8d54c2] \u001b[39m\u001b[92m+ Luxor v1.12.0\u001b[39m\n",
      " \u001b[90m [1914dd2f] \u001b[39m\u001b[92m+ MacroTools v0.5.10\u001b[39m\n",
      " \u001b[90m [dbb5928d] \u001b[39m\u001b[92m+ MappedArrays v0.4.1\u001b[39m\n",
      " \u001b[90m [442fdcdd] \u001b[39m\u001b[92m+ Measures v0.3.2\u001b[39m\n",
      " \u001b[90m [e89f7d12] \u001b[39m\u001b[92m+ Media v0.5.0\u001b[39m\n",
      " \u001b[90m [e1d29d7a] \u001b[39m\u001b[92m+ Missings v1.1.0\u001b[39m\n",
      " \u001b[90m [e94cdb99] \u001b[39m\u001b[92m+ MosaicViews v0.3.4\u001b[39m\n",
      "\u001b[33m⌅\u001b[39m\u001b[90m [77ba4419] \u001b[39m\u001b[92m+ NaNMath v0.3.7\u001b[39m\n",
      " \u001b[90m [6fe1bfb0] \u001b[39m\u001b[92m+ OffsetArrays v1.12.9\u001b[39m\n",
      " \u001b[90m [5432bcbf] \u001b[39m\u001b[92m+ PaddedViews v0.5.11\u001b[39m\n",
      "\u001b[33m⌅\u001b[39m\u001b[90m [ccf2f8ad] \u001b[39m\u001b[92m+ PlotThemes v1.0.3\u001b[39m\n",
      "\u001b[33m⌅\u001b[39m\u001b[90m [995b91a9] \u001b[39m\u001b[92m+ PlotUtils v0.6.5\u001b[39m\n",
      "\u001b[32m⌃\u001b[39m\u001b[90m [91a5bcdd] \u001b[39m\u001b[92m+ Plots v1.0.14\u001b[39m\n",
      "\u001b[33m⌅\u001b[39m\u001b[90m [dca85d43] \u001b[39m\u001b[92m+ QuartzImageIO v0.6.0\u001b[39m\n",
      " \u001b[90m [3cdcf5f2] \u001b[39m\u001b[92m+ RecipesBase v1.3.3\u001b[39m\n",
      "\u001b[33m⌅\u001b[39m\u001b[90m [01d81517] \u001b[39m\u001b[92m+ RecipesPipeline v0.1.13\u001b[39m\n",
      "\u001b[33m⌅\u001b[39m\u001b[90m [189a3867] \u001b[39m\u001b[92m+ Reexport v0.2.0\u001b[39m\n",
      " \u001b[90m [ae029012] \u001b[39m\u001b[92m+ Requires v1.3.0\u001b[39m\n",
      "\u001b[33m⌅\u001b[39m\u001b[90m [992d4aef] \u001b[39m\u001b[92m+ Showoff v0.3.2\u001b[39m\n",
      " \u001b[90m [a2af1166] \u001b[39m\u001b[92m+ SortingAlgorithms v1.1.0\u001b[39m\n",
      "\u001b[33m⌅\u001b[39m\u001b[90m [276daf66] \u001b[39m\u001b[92m+ SpecialFunctions v1.8.8\u001b[39m\n",
      " \u001b[90m [cae243ae] \u001b[39m\u001b[92m+ StackViews v0.1.1\u001b[39m\n",
      " \u001b[90m [90137ffa] \u001b[39m\u001b[92m+ StaticArrays v1.5.19\u001b[39m\n",
      " \u001b[90m [1e83bf80] \u001b[39m\u001b[92m+ StaticArraysCore v1.4.0\u001b[39m\n",
      " \u001b[90m [82ae8749] \u001b[39m\u001b[92m+ StatsAPI v1.5.0\u001b[39m\n",
      " \u001b[90m [2913bbd2] \u001b[39m\u001b[92m+ StatsBase v0.33.21\u001b[39m\n",
      " \u001b[90m [9ac5f52a] \u001b[39m\u001b[92m+ Tectonic v0.8.0\u001b[39m\n",
      " \u001b[90m [a7f2b756] \u001b[39m\u001b[92m+ ThinkJulia v0.0.0 `https://github.com/BenLauwens/ThinkJulia.jl#master`\u001b[39m\n",
      " \u001b[90m [37f6aa50] \u001b[39m\u001b[92m+ TikzPictures v3.4.2\u001b[39m\n",
      " \u001b[90m [6e34b625] \u001b[39m\u001b[92m+ Bzip2_jll v1.0.8+0\u001b[39m\n",
      " \u001b[90m [83423d85] \u001b[39m\u001b[92m+ Cairo_jll v1.16.1+1\u001b[39m\n",
      " \u001b[90m [2e619515] \u001b[39m\u001b[92m+ Expat_jll v2.4.8+0\u001b[39m\n",
      " \u001b[90m [b22a6f82] \u001b[39m\u001b[92m+ FFMPEG_jll v4.4.2+2\u001b[39m\n",
      " \u001b[90m [a3f928ae] \u001b[39m\u001b[92m+ Fontconfig_jll v2.13.93+0\u001b[39m\n",
      " \u001b[90m [d7e528f0] \u001b[39m\u001b[92m+ FreeType2_jll v2.10.4+0\u001b[39m\n",
      " \u001b[90m [559328eb] \u001b[39m\u001b[92m+ FriBidi_jll v1.0.10+0\u001b[39m\n",
      " \u001b[90m [78b55507] \u001b[39m\u001b[92m+ Gettext_jll v0.21.0+0\u001b[39m\n",
      " \u001b[90m [7746bdde] \u001b[39m\u001b[92m+ Glib_jll v2.74.0+2\u001b[39m\n",
      " \u001b[90m [3b182d85] \u001b[39m\u001b[92m+ Graphite2_jll v1.3.14+0\u001b[39m\n",
      " \u001b[90m [2e76f6c2] \u001b[39m\u001b[92m+ HarfBuzz_jll v2.8.1+1\u001b[39m\n",
      " \u001b[90m [aacddb02] \u001b[39m\u001b[92m+ JpegTurbo_jll v2.1.91+0\u001b[39m\n",
      " \u001b[90m [c1c5ebd0] \u001b[39m\u001b[92m+ LAME_jll v3.100.1+0\u001b[39m\n",
      " \u001b[90m [88015f11] \u001b[39m\u001b[92m+ LERC_jll v3.0.0+1\u001b[39m\n",
      " \u001b[90m [dd4b983a] \u001b[39m\u001b[92m+ LZO_jll v2.10.1+0\u001b[39m\n",
      "\u001b[33m⌅\u001b[39m\u001b[90m [e9f186c6] \u001b[39m\u001b[92m+ Libffi_jll v3.2.2+1\u001b[39m\n",
      " \u001b[90m [d4300ac3] \u001b[39m\u001b[92m+ Libgcrypt_jll v1.8.7+0\u001b[39m\n",
      " \u001b[90m [7add5ba3] \u001b[39m\u001b[92m+ Libgpg_error_jll v1.42.0+0\u001b[39m\n",
      " \u001b[90m [94ce4f54] \u001b[39m\u001b[92m+ Libiconv_jll v1.16.1+2\u001b[39m\n",
      " \u001b[90m [4b2f31a3] \u001b[39m\u001b[92m+ Libmount_jll v2.35.0+0\u001b[39m\n",
      " \u001b[90m [89763e89] \u001b[39m\u001b[92m+ Libtiff_jll v4.4.0+0\u001b[39m\n",
      " \u001b[90m [38a345b3] \u001b[39m\u001b[92m+ Libuuid_jll v2.36.0+0\u001b[39m\n",
      " \u001b[90m [d3a379c0] \u001b[39m\u001b[92m+ LittleCMS_jll v2.12.0+0\u001b[39m\n",
      " \u001b[90m [e7412a2a] \u001b[39m\u001b[92m+ Ogg_jll v1.3.5+1\u001b[39m\n",
      " \u001b[90m [643b3616] \u001b[39m\u001b[92m+ OpenJpeg_jll v2.4.0+0\u001b[39m\n",
      " \u001b[90m [efe28fd5] \u001b[39m\u001b[92m+ OpenSpecFun_jll v0.5.5+0\u001b[39m\n",
      " \u001b[90m [91d4177d] \u001b[39m\u001b[92m+ Opus_jll v1.3.2+0\u001b[39m\n",
      " \u001b[90m [36c8627f] \u001b[39m\u001b[92m+ Pango_jll v1.50.9+0\u001b[39m\n",
      " \u001b[90m [30392449] \u001b[39m\u001b[92m+ Pixman_jll v0.40.1+0\u001b[39m\n",
      "\u001b[33m⌅\u001b[39m\u001b[90m [9c32591e] \u001b[39m\u001b[92m+ Poppler_jll v0.87.0+2\u001b[39m\n",
      " \u001b[90m [02c8fc9c] \u001b[39m\u001b[92m+ XML2_jll v2.10.3+0\u001b[39m\n",
      " \u001b[90m [aed1982a] \u001b[39m\u001b[92m+ XSLT_jll v1.1.34+0\u001b[39m\n",
      " \u001b[90m [4f6342f7] \u001b[39m\u001b[92m+ Xorg_libX11_jll v1.6.9+4\u001b[39m\n",
      " \u001b[90m [0c0b7dd1] \u001b[39m\u001b[92m+ Xorg_libXau_jll v1.0.9+4\u001b[39m\n",
      " \u001b[90m [a3789734] \u001b[39m\u001b[92m+ Xorg_libXdmcp_jll v1.1.3+4\u001b[39m\n",
      " \u001b[90m [1082639a] \u001b[39m\u001b[92m+ Xorg_libXext_jll v1.3.4+4\u001b[39m\n",
      " \u001b[90m [ea2f1a96] \u001b[39m\u001b[92m+ Xorg_libXrender_jll v0.9.10+4\u001b[39m\n",
      " \u001b[90m [14d82f49] \u001b[39m\u001b[92m+ Xorg_libpthread_stubs_jll v0.1.0+3\u001b[39m\n",
      " \u001b[90m [c7cfdc94] \u001b[39m\u001b[92m+ Xorg_libxcb_jll v1.13.0+3\u001b[39m\n",
      " \u001b[90m [c5fb5394] \u001b[39m\u001b[92m+ Xorg_xtrans_jll v1.4.0+3\u001b[39m\n",
      " \u001b[90m [3161d3a3] \u001b[39m\u001b[92m+ Zstd_jll v1.5.4+0\u001b[39m\n",
      " \u001b[90m [a4ae2306] \u001b[39m\u001b[92m+ libaom_jll v3.4.0+0\u001b[39m\n",
      " \u001b[90m [0ac62f75] \u001b[39m\u001b[92m+ libass_jll v0.15.1+0\u001b[39m\n",
      " \u001b[90m [f638f0a6] \u001b[39m\u001b[92m+ libfdk_aac_jll v2.0.2+0\u001b[39m\n",
      " \u001b[90m [b53b4c65] \u001b[39m\u001b[92m+ libpng_jll v1.6.38+0\u001b[39m\n",
      " \u001b[90m [f27f6e37] \u001b[39m\u001b[92m+ libvorbis_jll v1.3.7+1\u001b[39m\n",
      " \u001b[90m [1270edf5] \u001b[39m\u001b[92m+ x264_jll v2021.5.5+0\u001b[39m\n",
      " \u001b[90m [dfaa095f] \u001b[39m\u001b[92m+ x265_jll v3.5.0+0\u001b[39m\n",
      " \u001b[90m [8bb1440f] \u001b[39m\u001b[92m+ DelimitedFiles\u001b[39m\n",
      " \u001b[90m [9abbd945] \u001b[39m\u001b[92m+ Profile\u001b[39m\n",
      " \u001b[90m [2f01184e] \u001b[39m\u001b[92m+ SparseArrays\u001b[39m\n",
      " \u001b[90m [10745b16] \u001b[39m\u001b[92m+ Statistics\u001b[39m\n",
      " \u001b[90m [05823500] \u001b[39m\u001b[92m+ OpenLibm_jll v0.8.1+0\u001b[39m\n",
      " \u001b[90m [efcefdf7] \u001b[39m\u001b[92m+ PCRE2_jll v10.40.0+0\u001b[39m\n",
      "\u001b[36m\u001b[1m        Info\u001b[22m\u001b[39m Packages marked with \u001b[32m⌃\u001b[39m and \u001b[33m⌅\u001b[39m have new versions available, but those with \u001b[33m⌅\u001b[39m are restricted by compatibility constraints from upgrading. To see why use `status --outdated -m`\n",
      "\u001b[32m\u001b[1m    Building\u001b[22m\u001b[39m GR ─────────→ `C:\\Users\\zoona\\.julia\\scratchspaces\\44cfe95a-1eb2-52ea-b672-e2afdf69b78f\\7ea6f715b7caa10d7ee16f1cfcd12f3ccc74116a\\build.log`\n",
      "\u001b[32m\u001b[1m    Building\u001b[22m\u001b[39m Plots ──────→ `C:\\Users\\zoona\\.julia\\scratchspaces\\44cfe95a-1eb2-52ea-b672-e2afdf69b78f\\484ade6d734feb43c06721c689155eb4aa3259f5\\build.log`\n",
      "\u001b[32m\u001b[1m    Building\u001b[22m\u001b[39m ImageMagick → `C:\\Users\\zoona\\.julia\\scratchspaces\\44cfe95a-1eb2-52ea-b672-e2afdf69b78f\\54dfa264804aefc44630c96619474e683a522d78\\build.log`\n"
     ]
    },
    {
     "ename": "LoadError",
     "evalue": "Error building `ImageMagick`: \nERROR: LoadError: Unable to open libLLVM!\nStacktrace:\n  [1] error(s::String)\n    @ Base .\\error.jl:35\n  [2] (::BinaryProvider.var\"#open_libllvm#124\")()\n    @ BinaryProvider C:\\Users\\zoona\\.julia\\packages\\BinaryProvider\\U2dKK\\src\\PlatformNames.jl:652\n  [3] detect_cxx11_string_abi()\n    @ BinaryProvider C:\\Users\\zoona\\.julia\\packages\\BinaryProvider\\U2dKK\\src\\PlatformNames.jl:655\n  [4] detect_compiler_abi()\n    @ BinaryProvider C:\\Users\\zoona\\.julia\\packages\\BinaryProvider\\U2dKK\\src\\PlatformNames.jl:668\n  [5] top-level scope\n    @ C:\\Users\\zoona\\.julia\\packages\\BinaryProvider\\U2dKK\\src\\PlatformNames.jl:685\n  [6] include(mod::Module, _path::String)\n    @ Base .\\Base.jl:419\n  [7] include(x::String)\n    @ BinaryProvider C:\\Users\\zoona\\.julia\\packages\\BinaryProvider\\U2dKK\\src\\BinaryProvider.jl:1\n  [8] top-level scope\n    @ C:\\Users\\zoona\\.julia\\packages\\BinaryProvider\\U2dKK\\src\\BinaryProvider.jl:12\n  [9] include\n    @ .\\Base.jl:419 [inlined]\n [10] include_package_for_output(pkg::Base.PkgId, input::String, depot_path::Vector{String}, dl_load_path::Vector{String}, load_path::Vector{String}, concrete_deps::Vector{Pair{Base.PkgId, UInt64}}, source::String)\n    @ Base .\\loading.jl:1554\n [11] top-level scope\n    @ stdin:1\nin expression starting at C:\\Users\\zoona\\.julia\\packages\\BinaryProvider\\U2dKK\\src\\PlatformNames.jl:685\nin expression starting at C:\\Users\\zoona\\.julia\\packages\\BinaryProvider\\U2dKK\\src\\BinaryProvider.jl:1\nin expression starting at stdin:1\nERROR: LoadError: Failed to precompile BinaryProvider [b99e7846-7c00-51b0-8f62-c81ae34c0232] to C:\\Users\\zoona\\.julia\\compiled\\v1.8\\BinaryProvider\\jl_B2C.tmp.\nStacktrace:\n  [1] error(s::String)\n    @ Base .\\error.jl:35\n  [2] compilecache(pkg::Base.PkgId, path::String, internal_stderr::IO, internal_stdout::IO, keep_loaded_modules::Bool)\n    @ Base .\\loading.jl:1707\n  [3] compilecache\n    @ .\\loading.jl:1651 [inlined]\n  [4] _require(pkg::Base.PkgId)\n    @ Base .\\loading.jl:1337\n  [5] _require_prelocked(uuidkey::Base.PkgId)\n    @ Base .\\loading.jl:1200\n  [6] macro expansion\n    @ .\\loading.jl:1180 [inlined]\n  [7] macro expansion\n    @ .\\lock.jl:223 [inlined]\n  [8] require(into::Module, mod::Symbol)\n    @ Base .\\loading.jl:1144\n  [9] include(fname::String)\n    @ Base.MainInclude .\\client.jl:476\n [10] top-level scope\n    @ none:5\nin expression starting at C:\\Users\\zoona\\.julia\\packages\\ImageMagick\\adWD8\\deps\\build.jl:1",
     "output_type": "error",
     "traceback": [
      "Error building `ImageMagick`: \nERROR: LoadError: Unable to open libLLVM!\nStacktrace:\n  [1] error(s::String)\n    @ Base .\\error.jl:35\n  [2] (::BinaryProvider.var\"#open_libllvm#124\")()\n    @ BinaryProvider C:\\Users\\zoona\\.julia\\packages\\BinaryProvider\\U2dKK\\src\\PlatformNames.jl:652\n  [3] detect_cxx11_string_abi()\n    @ BinaryProvider C:\\Users\\zoona\\.julia\\packages\\BinaryProvider\\U2dKK\\src\\PlatformNames.jl:655\n  [4] detect_compiler_abi()\n    @ BinaryProvider C:\\Users\\zoona\\.julia\\packages\\BinaryProvider\\U2dKK\\src\\PlatformNames.jl:668\n  [5] top-level scope\n    @ C:\\Users\\zoona\\.julia\\packages\\BinaryProvider\\U2dKK\\src\\PlatformNames.jl:685\n  [6] include(mod::Module, _path::String)\n    @ Base .\\Base.jl:419\n  [7] include(x::String)\n    @ BinaryProvider C:\\Users\\zoona\\.julia\\packages\\BinaryProvider\\U2dKK\\src\\BinaryProvider.jl:1\n  [8] top-level scope\n    @ C:\\Users\\zoona\\.julia\\packages\\BinaryProvider\\U2dKK\\src\\BinaryProvider.jl:12\n  [9] include\n    @ .\\Base.jl:419 [inlined]\n [10] include_package_for_output(pkg::Base.PkgId, input::String, depot_path::Vector{String}, dl_load_path::Vector{String}, load_path::Vector{String}, concrete_deps::Vector{Pair{Base.PkgId, UInt64}}, source::String)\n    @ Base .\\loading.jl:1554\n [11] top-level scope\n    @ stdin:1\nin expression starting at C:\\Users\\zoona\\.julia\\packages\\BinaryProvider\\U2dKK\\src\\PlatformNames.jl:685\nin expression starting at C:\\Users\\zoona\\.julia\\packages\\BinaryProvider\\U2dKK\\src\\BinaryProvider.jl:1\nin expression starting at stdin:1\nERROR: LoadError: Failed to precompile BinaryProvider [b99e7846-7c00-51b0-8f62-c81ae34c0232] to C:\\Users\\zoona\\.julia\\compiled\\v1.8\\BinaryProvider\\jl_B2C.tmp.\nStacktrace:\n  [1] error(s::String)\n    @ Base .\\error.jl:35\n  [2] compilecache(pkg::Base.PkgId, path::String, internal_stderr::IO, internal_stdout::IO, keep_loaded_modules::Bool)\n    @ Base .\\loading.jl:1707\n  [3] compilecache\n    @ .\\loading.jl:1651 [inlined]\n  [4] _require(pkg::Base.PkgId)\n    @ Base .\\loading.jl:1337\n  [5] _require_prelocked(uuidkey::Base.PkgId)\n    @ Base .\\loading.jl:1200\n  [6] macro expansion\n    @ .\\loading.jl:1180 [inlined]\n  [7] macro expansion\n    @ .\\lock.jl:223 [inlined]\n  [8] require(into::Module, mod::Symbol)\n    @ Base .\\loading.jl:1144\n  [9] include(fname::String)\n    @ Base.MainInclude .\\client.jl:476\n [10] top-level scope\n    @ none:5\nin expression starting at C:\\Users\\zoona\\.julia\\packages\\ImageMagick\\adWD8\\deps\\build.jl:1",
      "",
      "Stacktrace:",
      "  [1] pkgerror(msg::String)",
      "    @ Pkg.Types C:\\Users\\zoona\\AppData\\Local\\Programs\\Julia-1.8.5\\share\\julia\\stdlib\\v1.8\\Pkg\\src\\Types.jl:67",
      "  [2] (::Pkg.Operations.var\"#66#73\"{Bool, Pkg.Types.Context, String, Pkg.Types.PackageSpec, String})()",
      "    @ Pkg.Operations C:\\Users\\zoona\\AppData\\Local\\Programs\\Julia-1.8.5\\share\\julia\\stdlib\\v1.8\\Pkg\\src\\Operations.jl:1060",
      "  [3] withenv(::Pkg.Operations.var\"#66#73\"{Bool, Pkg.Types.Context, String, Pkg.Types.PackageSpec, String}, ::Pair{String, String}, ::Vararg{Pair{String}})",
      "    @ Base .\\env.jl:172",
      "  [4] (::Pkg.Operations.var\"#107#112\"{String, Bool, Bool, Bool, Pkg.Operations.var\"#66#73\"{Bool, Pkg.Types.Context, String, Pkg.Types.PackageSpec, String}, Pkg.Types.PackageSpec})()",
      "    @ Pkg.Operations C:\\Users\\zoona\\AppData\\Local\\Programs\\Julia-1.8.5\\share\\julia\\stdlib\\v1.8\\Pkg\\src\\Operations.jl:1619",
      "  [5] with_temp_env(fn::Pkg.Operations.var\"#107#112\"{String, Bool, Bool, Bool, Pkg.Operations.var\"#66#73\"{Bool, Pkg.Types.Context, String, Pkg.Types.PackageSpec, String}, Pkg.Types.PackageSpec}, temp_env::String)",
      "    @ Pkg.Operations C:\\Users\\zoona\\AppData\\Local\\Programs\\Julia-1.8.5\\share\\julia\\stdlib\\v1.8\\Pkg\\src\\Operations.jl:1493",
      "  [6] (::Pkg.Operations.var\"#105#110\"{Dict{String, Any}, Bool, Bool, Bool, Pkg.Operations.var\"#66#73\"{Bool, Pkg.Types.Context, String, Pkg.Types.PackageSpec, String}, Pkg.Types.Context, Pkg.Types.PackageSpec, String, Pkg.Types.Project, String})(tmp::String)",
      "    @ Pkg.Operations C:\\Users\\zoona\\AppData\\Local\\Programs\\Julia-1.8.5\\share\\julia\\stdlib\\v1.8\\Pkg\\src\\Operations.jl:1582",
      "  [7] mktempdir(fn::Pkg.Operations.var\"#105#110\"{Dict{String, Any}, Bool, Bool, Bool, Pkg.Operations.var\"#66#73\"{Bool, Pkg.Types.Context, String, Pkg.Types.PackageSpec, String}, Pkg.Types.Context, Pkg.Types.PackageSpec, String, Pkg.Types.Project, String}, parent::String; prefix::String)",
      "    @ Base.Filesystem .\\file.jl:764",
      "  [8] mktempdir(fn::Function, parent::String) (repeats 2 times)",
      "    @ Base.Filesystem .\\file.jl:760",
      "  [9] sandbox(fn::Function, ctx::Pkg.Types.Context, target::Pkg.Types.PackageSpec, target_path::String, sandbox_path::String, sandbox_project_override::Pkg.Types.Project; preferences::Dict{String, Any}, force_latest_compatible_version::Bool, allow_earlier_backwards_compatible_versions::Bool, allow_reresolve::Bool)",
      "    @ Pkg.Operations C:\\Users\\zoona\\AppData\\Local\\Programs\\Julia-1.8.5\\share\\julia\\stdlib\\v1.8\\Pkg\\src\\Operations.jl:1540",
      " [10] build_versions(ctx::Pkg.Types.Context, uuids::Set{Base.UUID}; verbose::Bool)",
      "    @ Pkg.Operations C:\\Users\\zoona\\AppData\\Local\\Programs\\Julia-1.8.5\\share\\julia\\stdlib\\v1.8\\Pkg\\src\\Operations.jl:1041",
      " [11] build_versions",
      "    @ C:\\Users\\zoona\\AppData\\Local\\Programs\\Julia-1.8.5\\share\\julia\\stdlib\\v1.8\\Pkg\\src\\Operations.jl:956 [inlined]",
      " [12] add(ctx::Pkg.Types.Context, pkgs::Vector{Pkg.Types.PackageSpec}, new_git::Set{Base.UUID}; preserve::Pkg.Types.PreserveLevel, platform::Base.BinaryPlatforms.Platform)",
      "    @ Pkg.Operations C:\\Users\\zoona\\AppData\\Local\\Programs\\Julia-1.8.5\\share\\julia\\stdlib\\v1.8\\Pkg\\src\\Operations.jl:1286",
      " [13] add(ctx::Pkg.Types.Context, pkgs::Vector{Pkg.Types.PackageSpec}; preserve::Pkg.Types.PreserveLevel, platform::Base.BinaryPlatforms.Platform, kwargs::Base.Pairs{Symbol, IJulia.IJuliaStdio{Base.PipeEndpoint}, Tuple{Symbol}, NamedTuple{(:io,), Tuple{IJulia.IJuliaStdio{Base.PipeEndpoint}}}})",
      "    @ Pkg.API C:\\Users\\zoona\\AppData\\Local\\Programs\\Julia-1.8.5\\share\\julia\\stdlib\\v1.8\\Pkg\\src\\API.jl:275",
      " [14] add(pkgs::Vector{Pkg.Types.PackageSpec}; io::IJulia.IJuliaStdio{Base.PipeEndpoint}, kwargs::Base.Pairs{Symbol, Union{}, Tuple{}, NamedTuple{(), Tuple{}}})",
      "    @ Pkg.API C:\\Users\\zoona\\AppData\\Local\\Programs\\Julia-1.8.5\\share\\julia\\stdlib\\v1.8\\Pkg\\src\\API.jl:156",
      " [15] add(pkgs::Vector{Pkg.Types.PackageSpec})",
      "    @ Pkg.API C:\\Users\\zoona\\AppData\\Local\\Programs\\Julia-1.8.5\\share\\julia\\stdlib\\v1.8\\Pkg\\src\\API.jl:145",
      " [16] #add#26",
      "    @ C:\\Users\\zoona\\AppData\\Local\\Programs\\Julia-1.8.5\\share\\julia\\stdlib\\v1.8\\Pkg\\src\\API.jl:143 [inlined]",
      " [17] add",
      "    @ C:\\Users\\zoona\\AppData\\Local\\Programs\\Julia-1.8.5\\share\\julia\\stdlib\\v1.8\\Pkg\\src\\API.jl:143 [inlined]",
      " [18] add(; name::Nothing, uuid::Nothing, version::Nothing, url::String, rev::Nothing, path::Nothing, mode::Pkg.Types.PackageMode, subdir::Nothing, kwargs::Base.Pairs{Symbol, Union{}, Tuple{}, NamedTuple{(), Tuple{}}})",
      "    @ Pkg.API C:\\Users\\zoona\\AppData\\Local\\Programs\\Julia-1.8.5\\share\\julia\\stdlib\\v1.8\\Pkg\\src\\API.jl:173",
      " [19] top-level scope",
      "    @ In[1]:5"
     ]
    }
   ],
   "source": [
    "#Importamos el paquete \"Pkg\" para poder instalar paquetes.\n",
    "#using Pkg                                                  \n",
    "\n",
    "#Luego, instalamos el paquete \"ThinkJulia\".\n",
    "#Pkg.add(url=\"https://github.com/BenLauwens/ThinkJulia.jl\")"
   ]
  },
  {
   "cell_type": "code",
   "execution_count": 2,
   "id": "df201858",
   "metadata": {},
   "outputs": [
    {
     "name": "stderr",
     "output_type": "stream",
     "text": [
      "\u001b[36m\u001b[1m[ \u001b[22m\u001b[39m\u001b[36m\u001b[1mInfo: \u001b[22m\u001b[39mPrecompiling ThinkJulia [a7f2b756-c18b-4c7f-87da-faca9ac81b29]\n",
      "\u001b[36m\u001b[1m[ \u001b[22m\u001b[39m\u001b[36m\u001b[1mInfo: \u001b[22m\u001b[39mSkipping precompilation since __precompile__(false). Importing ThinkJulia [a7f2b756-c18b-4c7f-87da-faca9ac81b29].\n",
      "\u001b[36m\u001b[1m[ \u001b[22m\u001b[39m\u001b[36m\u001b[1mInfo: \u001b[22m\u001b[39mPrecompiling Luxor [ae8d54c2-7ccd-5906-9d76-62fc9837b5bc]\n",
      "\u001b[36m\u001b[1m[ \u001b[22m\u001b[39m\u001b[36m\u001b[1mInfo: \u001b[22m\u001b[39mPrecompiling TikzPictures [37f6aa50-8035-52d0-81c2-5a1d08754b2d]\n",
      "\u001b[36m\u001b[1m[ \u001b[22m\u001b[39m\u001b[36m\u001b[1mInfo: \u001b[22m\u001b[39mPrecompiling Poppler_jll [9c32591e-4766-534b-9725-b71a8799265b]\n",
      "\u001b[36m\u001b[1m[ \u001b[22m\u001b[39m\u001b[36m\u001b[1mInfo: \u001b[22m\u001b[39mPrecompiling Plots [91a5bcdd-55d7-5caf-9e0b-520d859cae80]\n",
      "WARNING: method definition for #xticks!#421 at C:\\Users\\zoona\\.julia\\packages\\Plots\\8GUYs\\src\\shorthands.jl:415 declares type variable T but does not use it.\n",
      "WARNING: method definition for #yticks!#422 at C:\\Users\\zoona\\.julia\\packages\\Plots\\8GUYs\\src\\shorthands.jl:418 declares type variable T but does not use it.\n",
      "WARNING: method definition for xticks!#443 at C:\\Users\\zoona\\.julia\\packages\\Plots\\8GUYs\\src\\Plots.jl:227 declares type variable T but does not use it.\n",
      "WARNING: method definition for yticks!#444 at C:\\Users\\zoona\\.julia\\packages\\Plots\\8GUYs\\src\\Plots.jl:228 declares type variable T but does not use it.\n"
     ]
    },
    {
     "ename": "LoadError",
     "evalue": "LoadError: ThinkJulia not installed properly, run Pkg.build(\"ThinkJulia\"), restart Julia and try again\nin expression starting at C:\\Users\\zoona\\.julia\\packages\\ThinkJulia\\REhsz\\src\\ThinkJulia.jl:1",
     "output_type": "error",
     "traceback": [
      "LoadError: ThinkJulia not installed properly, run Pkg.build(\"ThinkJulia\"), restart Julia and try again\nin expression starting at C:\\Users\\zoona\\.julia\\packages\\ThinkJulia\\REhsz\\src\\ThinkJulia.jl:1",
      "",
      "Stacktrace:",
      " [1] error(s::String)",
      "   @ Base .\\error.jl:35",
      " [2] top-level scope",
      "   @ C:\\Users\\zoona\\.julia\\packages\\ThinkJulia\\REhsz\\src\\ThinkJulia.jl:15",
      " [3] include",
      "   @ .\\Base.jl:419 [inlined]",
      " [4] _require(pkg::Base.PkgId)",
      "   @ Base .\\loading.jl:1367",
      " [5] _require_prelocked(uuidkey::Base.PkgId)",
      "   @ Base .\\loading.jl:1200",
      " [6] macro expansion",
      "   @ .\\loading.jl:1180 [inlined]",
      " [7] macro expansion",
      "   @ .\\lock.jl:223 [inlined]",
      " [8] require(into::Module, mod::Symbol)",
      "   @ Base .\\loading.jl:1144"
     ]
    }
   ],
   "source": [
    "using ThinkJulia # Importamos el paquete \"ThinkJulia\".\n",
    "\n",
    "#=NOTA: Después de instalar el paquete \"ThinkJulia\" localmente en tu computadora,\n",
    "podrás importarlo las veces que quieras sin tener que volverlo a instalar; por ende,\n",
    "recomendamos comentar la celda de código anterior después de la instalación inicial,\n",
    "pues ya no será necesaria más adelante.=#"
   ]
  },
  {
   "cell_type": "markdown",
   "id": "50a51f41",
   "metadata": {},
   "source": [
    "En la siguiente celda, usamos la función `Turtle` para inicializar nuestra tortuga en el origen del plano cartesiano y luego mostramos un ejemplo con las cuatro instrucciones que podemos darle. Como existe un caracter [`Unicode`](https://es.wikipedia.org/wiki/Unicode) de tortuga que podemos usar para nombrar variables con Julia, lo usaremos para definir a nuestra tortuga, por pura diversión; este caracter se obtiene escribiendo `\\:turtle:` en una celda de código de Julia y auto completando con la tecla `TAB`.\n",
    "\n",
    "Ejecuta la siguiente celda, experimenta cambiando el valor de distancia `d` y comentando alguna o varias líneas del bloque `begin`, y observa cómo cambia el dibujo que haces con la tortuga. ¿Hacia dónde mira la tortuga al inicio? ¿La convención de grados que sigue la tortuga es igual a la convención matemática usual en el plano cartesiano?"
   ]
  },
  {
   "cell_type": "code",
   "execution_count": 5,
   "id": "ec328876",
   "metadata": {},
   "outputs": [
    {
     "ename": "LoadError",
     "evalue": "UndefVarError: Turtle not defined",
     "output_type": "error",
     "traceback": [
      "UndefVarError: Turtle not defined",
      "",
      "Stacktrace:",
      " [1] top-level scope",
      "   @ In[5]:1"
     ]
    }
   ],
   "source": [
    "🐢 = Turtle() #Inicializamos nuestra tortuga en el origen del plano.\n",
    "\n",
    "d = 100\n",
    "\n",
    "@svg begin       #Creamos un bloque 'begin' para darle instrucciones a nuestra tortuga.\n",
    "    forward(🐢,d)\n",
    "    penup(🐢)\n",
    "    forward(🐢,d)\n",
    "    pendown(🐢)\n",
    "    forward(🐢,d)\n",
    "    turn(🐢, 90)\n",
    "    forward(🐢,d)\n",
    "end\n",
    "\n",
    "#=NOTA: '@svg' toma las instrucciones dentro del bloque 'begin' y genera un \"gráfico\n",
    "vectorizado escalable\" (o svg, por sus siglas en inglés) con ellas, que luego Jupyter\n",
    "nos muestra.=#"
   ]
  },
  {
   "cell_type": "markdown",
   "id": "16198369",
   "metadata": {},
   "source": [
    "**Ejercicio** Dibuja una línea punteada con 5 líneas negras de 10 unidades de distancia cada una con 10 unidades de distancia entre ellas. (Sugerencia: copia el código de la celda anterior y modifícalo a tu conveniencia.)"
   ]
  },
  {
   "cell_type": "code",
   "execution_count": null,
   "id": "ac77acc6",
   "metadata": {},
   "outputs": [],
   "source": [
    "#Tu código comentado va aquí :D"
   ]
  },
  {
   "cell_type": "markdown",
   "id": "0740193f",
   "metadata": {},
   "source": [
    "**Ejercicio** Si no utilizaste un ciclo para resolver el ejercicio anterior, reescribe tu programa utilizando un ciclo **`for`** o **`while`**."
   ]
  },
  {
   "cell_type": "code",
   "execution_count": null,
   "id": "364b1176",
   "metadata": {},
   "outputs": [],
   "source": [
    "#Tu código comentado va aquí :D"
   ]
  },
  {
   "cell_type": "markdown",
   "id": "e5762d8e",
   "metadata": {},
   "source": [
    "**Ejercicio** Haz un programa que tome tres parámetros `n`, `d1` y `d2` (los cuales puedes definir como variables en la misma celda) y dibuje `n` líneas de longitud `d1` con una distancia de separación `d2` entre ellas utilizando un ciclo **`for`** o **`while`**."
   ]
  },
  {
   "cell_type": "code",
   "execution_count": null,
   "id": "596497c3",
   "metadata": {},
   "outputs": [],
   "source": [
    "#Tu código comentado va aquí :D"
   ]
  },
  {
   "cell_type": "markdown",
   "id": "b2462d2d",
   "metadata": {},
   "source": [
    "**Ejercicio** Haz un programa que dibuje un triángulo equilátero de lado `d`."
   ]
  },
  {
   "cell_type": "code",
   "execution_count": null,
   "id": "297ea71a",
   "metadata": {},
   "outputs": [],
   "source": [
    "#Tu código comentado va aquí :D"
   ]
  },
  {
   "cell_type": "markdown",
   "id": "f852f46e",
   "metadata": {},
   "source": [
    "**Ejercicio** Generaliza el programa anterior a uno que tome dos parámetros `n` y `d` y dibuje un polígono regular de `n` lados de longitud `d` utilizando un ciclo **`for`** o **`while`**."
   ]
  },
  {
   "cell_type": "code",
   "execution_count": null,
   "id": "ca6fe61a",
   "metadata": {},
   "outputs": [],
   "source": [
    "#Tu código comentado va aquí :D"
   ]
  },
  {
   "cell_type": "markdown",
   "id": "40948d24",
   "metadata": {},
   "source": [
    "### Tortugas y fractales\n",
    "\n",
    "Podemos utilizar ciclos recursivos para dibujar fractales (o al menos una linda aproximación de ellos) con ayuda de nuestra amiga tortuga:"
   ]
  },
  {
   "cell_type": "code",
   "execution_count": null,
   "id": "a179d6af",
   "metadata": {},
   "outputs": [],
   "source": [
    "function estrella(tort,dist)      #Sintáxis compacta.\n",
    "    if dist <= 5\n",
    "        return\n",
    "    else\n",
    "        for i in 1:5\n",
    "            forward(tort,dist)\n",
    "            estrella(tort,dist/3)\n",
    "            turn(tort,216)\n",
    "        end\n",
    "    end\n",
    "end\n",
    "\n",
    "🐢 = Turtle() #Inicializamos nuestra tortuga en el origen del plano.\n",
    "\n",
    "d = 200\n",
    "\n",
    "@svg estrella(🐢,d) "
   ]
  },
  {
   "cell_type": "markdown",
   "id": "e038907a",
   "metadata": {},
   "source": [
    "**Ejercicio** Crea un fractal **original** con un ciclo recursivo."
   ]
  },
  {
   "cell_type": "code",
   "execution_count": null,
   "id": "2d7d071a",
   "metadata": {},
   "outputs": [],
   "source": [
    "#Tu código comentado va aquí :D"
   ]
  },
  {
   "cell_type": "markdown",
   "id": "8e808b43",
   "metadata": {},
   "source": [
    "### Dato curioso\n",
    "\n",
    "El _software_ del paquete `ThinkJulia` que acabamos de utilizar está basado en la biblioteca [`turtle`](https://docs.python.org/3/library/turtle.html) de Python la cual, a su vez, está basada en el lenguaje de programación educativo [`Logo`](https://en.wikipedia.org/wiki/Logo_(programming_language)) creado en 1967."
   ]
  },
  {
   "cell_type": "markdown",
   "id": "af2105f0",
   "metadata": {},
   "source": [
    "## Resumen\n",
    "\n",
    "Los **ciclos** nos permiten _repetir_ procesos _hasta que_ una condición particular se satisfaga. En Julia, existen tres tipos de ciclos:\n",
    "* **`while`**, que se ejecutan _mientras_ una condición se cumpla (o, equivalentemente, mientras no se deje de cumplir);\n",
    "* **`for`**, que se ejecutan _por_ cada elemento de un arreglo, y por cada iteración se le asigna el valor del elemento en turno del arreglo a una variable conocida como _iterador_, que puede ser usada dentro del mismo ciclo;\n",
    "* **recursivos**, que se crean mediante _funciones que se llaman a sí mismas_.\n",
    "\n",
    "Se pueden crear ciclos _infinitos_ del primer y tercer tipo. Esto puede evitarse en un ciclo **`while`** asegurándose de que las instrucciones dentro del ciclo eventualmente hagan que la condición que determina su ejecución se evalúe a `false`. Para el caso de un ciclo **recursivo**, dentro de la definición de la función recursiva, _antes de que se llame a sí misma_, se debe colocar una declaración condicional de tal forma que uno de los caminos _posibles_ termine el ciclo.\n",
    "\n",
    "También es posible iterar ciclos **`for`** sobre _rangos_, creados con la sintáxis $\\color{green}{\\text{a}}\\color{magenta}{\\textbf{:}}\\color{green}{\\text{b}}\\color{magenta}{\\textbf{:}}\\color{green}{\\text{c}}$, donde $\\color{green}{\\text{a}}$ es el punto de partida, $\\color{green}{\\text{b}}$ es la diferencia entre elementos adyacentes y $\\color{green}{\\text{c}}$ acota a los valores que se pueden incluir en el rango. Los rangos pueden ser convertidos a arreglos con `collect` y, junto con los ciclos **`for`**, sirven para definir arreglos _por comprensión_.\n"
   ]
  },
  {
   "cell_type": "markdown",
   "id": "c6276668",
   "metadata": {},
   "source": [
    "## Recursos complementarios\n",
    "* Manual de Julia de [ciclos](https://docs.julialang.org/en/v1/manual/control-flow/#man-loops).\n",
    "* Video [Programming Loops vs Recursion](https://www.youtube.com/watch?v=HXNhEYqFo0o) del canal de YouTube [Computerphile](https://www.youtube.com/@Computerphile).\n",
    "* Sección \"Turtles\" del libro digital [Think Julia: How to Think Like a Computer Scientist](https://benlauwens.github.io/ThinkJulia.jl/latest/book.html#_turtles) de Ben Lauwens."
   ]
  }
 ],
 "metadata": {
  "kernelspec": {
   "display_name": "Julia 1.8.5",
   "language": "julia",
   "name": "julia-1.8"
  },
  "language_info": {
   "file_extension": ".jl",
   "mimetype": "application/julia",
   "name": "julia",
   "version": "1.8.5"
  }
 },
 "nbformat": 4,
 "nbformat_minor": 5
}
